{
  "nbformat": 4,
  "nbformat_minor": 0,
  "metadata": {
    "colab": {
      "provenance": [],
      "include_colab_link": true
    },
    "kernelspec": {
      "name": "python3",
      "display_name": "Python 3"
    },
    "language_info": {
      "name": "python"
    }
  },
  "cells": [
    {
      "cell_type": "markdown",
      "metadata": {
        "id": "view-in-github",
        "colab_type": "text"
      },
      "source": [
        "<a href=\"https://colab.research.google.com/github/MJAHMADEE/Industrial_Control_Course/blob/main/Getting_Started_and_Chapter3.ipynb\" target=\"_parent\"><img src=\"https://colab.research.google.com/assets/colab-badge.svg\" alt=\"Open In Colab\"/></a>"
      ]
    },
    {
      "cell_type": "markdown",
      "source": [
        "# Example 1: Dcmotor\n",
        "This code defines a state space model of a DC motor and simulates its response to an input signal. The input signal is a step function that changes sign at t=2 seconds. The state variables (theta, omega, and i) are plotted over time.\n",
        "\n",
        "I added a line to calculate the output of the system by multiplying the output y from the lsim function with the input signal u. This is because the lsim function in Python only returns the response of the system to the input signal, while in MATLAB it returns the product of the input and output signals.\n",
        "\n",
        "To obtain the correct plot, it is necessary to multiply the output y by the input signal u. This can be done using the dot function from the NumPy library, which performs matrix multiplication between the y and u arrays.\n",
        "\n",
        "So the line y = np.dot(y.reshape(-1, 1), u.reshape(1, -1)) multiplies y with u, where the reshape function is used to ensure that the dimensions of the arrays match for multiplication. The resulting y array contains the correct output of the system."
      ],
      "metadata": {
        "id": "2WyPKgT-C0iL"
      }
    },
    {
      "cell_type": "code",
      "execution_count": null,
      "metadata": {
        "colab": {
          "base_uri": "https://localhost:8080/",
          "height": 283
        },
        "id": "BSwnIQWnCXc2",
        "outputId": "e3ed9dc9-debb-4b88-d358-214c8d1ed64f"
      },
      "outputs": [
        {
          "output_type": "display_data",
          "data": {
            "text/plain": [
              "<Figure size 432x288 with 1 Axes>"
            ],
            "image/png": "[encoded data removed]"
          },
          "metadata": {
            "needs_background": "light"
          }
        }
      ],
      "source": [
        "# Import necessary libraries\n",
        "import numpy as np\n",
        "import matplotlib.pyplot as plt\n",
        "from scipy import signal\n",
        "\n",
        "# Define the system matrices\n",
        "A = np.array([[0, 1, 0], [0, 0, 4.438], [0, -12, -24]])\n",
        "b1 = np.array([[0], [0], [20]])\n",
        "b2 = np.array([[0], [-7.396], [0]])\n",
        "B = np.hstack((b1, b2))\n",
        "C = np.array([[1, 0, 0]])\n",
        "D = np.array([[0]])\n",
        "\n",
        "# Create the state space model of the DC motor\n",
        "DC_motor = signal.StateSpace(A, b1, C, D)\n",
        "\n",
        "# Define the time vector and input signal\n",
        "t = np.arange(0, 4.01, 0.01)\n",
        "N = len(t)\n",
        "u = np.zeros((2, N))\n",
        "for i in range(N):\n",
        "    if t[i] < 2:\n",
        "        u[:, i] = 3\n",
        "    else:\n",
        "        u[:, i] = -3\n",
        "\n",
        "# Simulate the system\n",
        "t, y, x = signal.lsim(DC_motor, u[0], t)\n",
        "y = np.dot(y.reshape(-1, 1), u.reshape(1, -1))\n",
        "\n",
        "# Plot the state variables\n",
        "plt.plot(t, x[:, 0], 'k', label=r'$\\theta$')\n",
        "plt.plot(t, x[:, 1], 'k-.', label=r'$\\omega$')\n",
        "plt.plot(t, x[:, 2], 'k:', label=r\"$i$\")\n",
        "plt.grid()\n",
        "plt.xlabel('Time (sec)')\n",
        "plt.ylabel('State variables')\n",
        "plt.legend()\n",
        "plt.setp(plt.gca().get_lines(), linewidth=2)\n",
        "plt.xlim([0, 4])\n",
        "plt.ylim([-5, 10])\n",
        "plt.savefig('DC_motor_response.pdf')\n",
        "plt.show()"
      ]
    },
    {
      "cell_type": "markdown",
      "source": [
        "# Example 2: inverted_pendulum\n",
        "The code defines a function inverted_pendulum that describes the dynamics of an inverted pendulum system using the state-space representation. The function is then used to simulate the system using the ode45 solver and plot the results.\n",
        "The inverted_pendulum function takes as input the state x and time t, and returns the time derivatives of the state variables. The function defines the system parameters such as gravity g, length l, and masses m and M. It then defines the system state variables x_dot, which are the derivatives of the input x. The system dynamics are defined by the equations of motion for the inverted pendulum system.\n",
        "\n",
        "The odeint function from the SciPy library is used to solve the system of differential equations defined by the inverted_pendulum function. The initial state x0, time vector tspan, and inverted_pendulum function are passed as arguments to odeint.\n",
        "\n",
        "Finally, the code plots the state variables x and theta as a function of time. The plot function is used to create the plot, with the time vector tspan on the x-axis and the state variables x and theta on the y-axis. The grid, xlabel, ylabel, legend, and setp functions are used to customize the plot."
      ],
      "metadata": {
        "id": "dPSmXCC-DkNe"
      }
    },
    {
      "cell_type": "code",
      "source": [
        "# Import necessary libraries\n",
        "import numpy as np\n",
        "import matplotlib.pyplot as plt\n",
        "from scipy.integrate import odeint\n",
        "\n",
        "def inverted_pendulum(x, t):\n",
        "    # Define the system parameters\n",
        "    g = 9.8\n",
        "    l = 1\n",
        "    m = 1\n",
        "    M = 1\n",
        "    \n",
        "    # Define the system state variables\n",
        "    x_dot = np.zeros_like(x)\n",
        "    x_dot[0] = x[2]\n",
        "    x_dot[1] = x[3]\n",
        "    \n",
        "    # Define the system dynamics\n",
        "    d1 = M + m*(1 - np.cos(x[1])**2)\n",
        "    d2 = l*d1\n",
        "    F = 0\n",
        "    x_dot[2] = (F + m*l*x[3]**2*np.sin(x[1]) - m*g*np.sin(x[1])*np.cos(x[1]))/d1\n",
        "    x_dot[3] = (-F*np.cos(x[1]) - m*l*x[3]**2*np.sin(x[1])*np.cos(x[1]) + (M+m)*g*np.sin(x[1]))/d2\n",
        "    \n",
        "    return x_dot\n",
        "\n",
        "# Define the initial state and time vector\n",
        "x0 = np.array([0, 0.1, 0, 0])\n",
        "tspan = np.linspace(0, 1, 101)\n",
        "\n",
        "# Solve the system using odeint\n",
        "x = odeint(inverted_pendulum, x0, tspan)\n",
        "\n",
        "# Plot the state variables\n",
        "plt.plot(tspan, x[:, 0], 'k', label='x (m)')\n",
        "plt.plot(tspan, x[:, 1], '-.k', label=r'$\\theta$ (rad)')\n",
        "plt.grid()\n",
        "plt.xlabel('Time (sec)')\n",
        "plt.ylabel('State Variables')\n",
        "plt.legend()\n",
        "plt.setp(plt.gca().get_lines(), linewidth=2)\n",
        "plt.xlim([0, 1])\n",
        "plt.ylim([-0.5, 2.5])\n",
        "plt.savefig('inverted_pendulum.pdf')\n",
        "plt.show()"
      ],
      "metadata": {
        "colab": {
          "base_uri": "https://localhost:8080/",
          "height": 283
        },
        "id": "B9MPZoCvDqLO",
        "outputId": "b62c5ad5-51b0-4899-cb68-349511ba5889"
      },
      "execution_count": null,
      "outputs": [
        {
          "output_type": "display_data",
          "data": {
            "text/plain": [
              "<Figure size 432x288 with 1 Axes>"
            ],
            "image/png": "[encoded data removed]"
          },
          "metadata": {
            "needs_background": "light"
          }
        }
      ]
    },
    {
      "cell_type": "markdown",
      "source": [
        "# Example 3: tank\n",
        "In this code, we have used the odeint function from the scipy.integrate module to solve the differential equation defined by the tank_model function. The odeint function takes the function defining the differential equation, initial conditions, and time interval as input arguments and returns an array of state variables at different time points. The plot function from the matplotlib.pyplot module is used to plot the tank level as a function of time. The grid function is used to display a grid on the plot, and the setp function is used to set the linewidth of the lines in the plot.\n",
        "\n",
        "The warning message \"RuntimeWarning: invalid value encountered in sqrt\" means that there is an attempt to take the square root of a negative number, which is not a real number. This could be because the value of x becomes negative at some point during the simulation.\n",
        "\n",
        "One possible solution to prevent this warning is to add a condition to check if the value of x is negative, and if so, set the derivative to zero. This would prevent the tank level from becoming negative during the simulation.\n",
        "\n",
        "In this code, the odeint function is used to solve the ODE, which takes the function tank_model, the initial condition x0, and the time span t as inputs. The if statement in the tank_model function checks if the tank level is negative, and if so, sets the derivative to zero.\n",
        "\n",
        "More Info: 'RuntimeWarning: invalid value encountered in sqrt xp = 1/A * (F_in - C*u*np.sqrt(x))' message indicates that there was an invalid value encountered in the square root operation in the tank_model function. This is because the square root function cannot take negative values as input, which can happen when x goes below zero. To prevent this error from occurring, you can add a condition to check if x is negative before calling the square root function. By setting x to zero when it becomes negative, you can prevent the invalid value encountered in the square root operation and the resulting warning message."
      ],
      "metadata": {
        "id": "KBJCSp1fGxpY"
      }
    },
    {
      "cell_type": "code",
      "source": [
        "import numpy as np\n",
        "from scipy.integrate import odeint\n",
        "import matplotlib.pyplot as plt\n",
        "\n",
        "def tank_model(x, t):\n",
        "    # State variable x = l: Tank level\n",
        "    A = 1\n",
        "    C = 2.0\n",
        "    F_in = 0  # No disturbance input\n",
        "    u = 0.1  # Constant opening for valve\n",
        "\n",
        "    if x < 0:  # Check if tank level is negative\n",
        "        xp = 0  # Set the derivative to zero\n",
        "    else:\n",
        "        xp = 1/A * (F_in - C*u*np.sqrt(x))\n",
        "\n",
        "    return xp\n",
        "\n",
        "# Initial condition\n",
        "x0 = 100\n",
        "\n",
        "# Time span\n",
        "t = np.linspace(0, 100, 1000)\n",
        "\n",
        "# Solve the ODE using odeint function\n",
        "x = odeint(tank_model, x0, t)\n",
        "\n",
        "# Plot the result\n",
        "plt.plot(t, x[:, 0], 'k')\n",
        "plt.grid(True)\n",
        "plt.xlabel('Time (sec)')\n",
        "plt.ylabel('Tank Level (m)')\n",
        "plt.setp(plt.gca().get_lines(), linewidth=2)\n",
        "plt.xlim([0, 100])\n",
        "plt.ylim([0, 100])\n",
        "plt.savefig('tank.pdf')\n",
        "plt.show()"
      ],
      "metadata": {
        "colab": {
          "base_uri": "https://localhost:8080/",
          "height": 283
        },
        "id": "d0YC--mVHEAf",
        "outputId": "aa5799fe-62c5-40f3-8ae4-14e0ed045354"
      },
      "execution_count": null,
      "outputs": [
        {
          "output_type": "display_data",
          "data": {
            "text/plain": [
              "<Figure size 432x288 with 1 Axes>"
            ],
            "image/png": "[encoded data removed]"
          },
          "metadata": {
            "needs_background": "light"
          }
        }
      ]
    },
    {
      "cell_type": "markdown",
      "source": [
        "# Example 4: Linear system with transformation function\n",
        "\n",
        "Here's an example code that prompts the user to input the dimension of the A matrix and the values of all the state space matrices, then calculates and outputs the inverse of (sI - A) and the transfer function in the state space."
      ],
      "metadata": {
        "id": "eVvsdKarLLCm"
      }
    },
    {
      "cell_type": "code",
      "source": [
        "import sympy as sp\n",
        "\n",
        "# Get the state space matrices from the user\n",
        "n = int(input(\"Enter the dimension of the state space: \"))\n",
        "A = sp.Matrix([[float(input(f\"A({i+1},{j+1}): \")) for j in range(n)] for i in range(n)])\n",
        "B = sp.Matrix([[float(input(f\"B({i+1},{j+1}): \")) for j in range(1)] for i in range(n)])\n",
        "C = sp.Matrix([[float(input(f\"C({i+1},{j+1}): \")) for j in range(n)] for i in range(1)])\n",
        "D = sp.Matrix([[float(input(\"Enter the value of D: \"))]])\n",
        "\n",
        "# Define the symbolic variable s\n",
        "s = sp.symbols('s')\n",
        "\n",
        "# Calculate (sI - A)^(-1)\n",
        "sI_A_inv = (s*sp.eye(n) - A)**(-1)\n",
        "sI_A_inv_simp = sp.simplify(sI_A_inv)\n",
        "\n",
        "# Calculate the transfer function G(s) = C(sI - A)^(-1)B + D\n",
        "G = C*sI_A_inv*B + D\n",
        "G_simp = sp.simplify(G)\n",
        "\n",
        "# Print the results\n",
        "print(\"(sI - A)^(-1) =\")\n",
        "sp.pprint(sI_A_inv_simp)\n",
        "print(\"G(s) =\")\n",
        "sp.pprint(G_simp)\n",
        "\n",
        "# Print the LaTeX formatted output\n",
        "print(\"\\nLaTeX formatted output:\")\n",
        "print(\"$G(s) = $\", sp.latex(G_simp))\n",
        "print(\"$[sI - A]^{-1} = $\", sp.latex(sI_A_inv_simp))"
      ],
      "metadata": {
        "colab": {
          "base_uri": "https://localhost:8080/"
        },
        "id": "BARbuylzVVBh",
        "outputId": "c87b886a-554b-46cc-bd77-a4802f2828fc"
      },
      "execution_count": null,
      "outputs": [
        {
          "output_type": "stream",
          "name": "stdout",
          "text": [
            "Enter the dimension of the state space: 2\n",
            "A(1,1): 0\n",
            "A(1,2): 1\n",
            "A(2,1): -2\n",
            "A(2,2): -3\n",
            "B(1,1): 1\n",
            "B(2,1): 1\n",
            "C(1,1): 1\n",
            "C(1,2): 0\n",
            "Enter the value of D: 0\n",
            "(sI - A)^(-1) =\n",
            "⎡    2.0⋅s + 6.0               2.0         ⎤\n",
            "⎢────────────────────  ────────────────────⎥\n",
            "⎢     2                     2              ⎥\n",
            "⎢2.0⋅s  + 6.0⋅s + 4.0  2.0⋅s  + 6.0⋅s + 4.0⎥\n",
            "⎢                                          ⎥\n",
            "⎢       -2.0                  1.0⋅s        ⎥\n",
            "⎢────────────────────  ────────────────────⎥\n",
            "⎢     2                     2              ⎥\n",
            "⎣1.0⋅s  + 3.0⋅s + 2.0  1.0⋅s  + 3.0⋅s + 2.0⎦\n",
            "G(s) =\n",
            "⎡    2.0⋅s + 8.0     ⎤\n",
            "⎢────────────────────⎥\n",
            "⎢     2              ⎥\n",
            "⎣2.0⋅s  + 6.0⋅s + 4.0⎦\n",
            "\n",
            "LaTeX formatted output:\n",
            "$G(s) = $ \\left[\\begin{matrix}\\frac{2.0 s + 8.0}{2.0 s^{2} + 6.0 s + 4.0}\\end{matrix}\\right]\n",
            "$[sI - A]^{-1} = $ \\left[\\begin{matrix}\\frac{2.0 s + 6.0}{2.0 s^{2} + 6.0 s + 4.0} & \\frac{2.0}{2.0 s^{2} + 6.0 s + 4.0}\\\\- \\frac{2.0}{1.0 s^{2} + 3.0 s + 2.0} & \\frac{1.0 s}{1.0 s^{2} + 3.0 s + 2.0}\\end{matrix}\\right]\n"
          ]
        }
      ]
    },
    {
      "cell_type": "markdown",
      "source": [
        "To get the state space matrices A, B, C, and D for an LTI system, we need to provide the system's state space representation in the form of:\n",
        "\n",
        "x_dot = Ax + Bu\n",
        "y = Cx + Du\n",
        "\n",
        "where:\n",
        "\n",
        "x is the state vector (n x 1)\n",
        "u is the input vector (m x 1)\n",
        "y is the output vector (p x 1)\n",
        "A is the state matrix (n x n)\n",
        "B is the input matrix (n x m)\n",
        "C is the output matrix (p x n)\n",
        "D is the direct transmission matrix (p x m)\n",
        "To obtain the inverse of the matrix (sI - A), where s is the Laplace variable, we can use the inv function from numpy.\n",
        "\n",
        "To obtain the transfer function of the system, we can use the ss2tf function from scipy.signal.\n",
        "\n",
        "Note: Replace np.random.rand with the actual values of A, B, C, and D for your system."
      ],
      "metadata": {
        "id": "vt6cMcBwLV2-"
      }
    },
    {
      "cell_type": "code",
      "source": [
        "import numpy as np\n",
        "from scipy import signal\n",
        "\n",
        "# Define the state space representation of the system\n",
        "# Set values for n, m, and p to match your system\n",
        "n = 3\n",
        "m = 1\n",
        "p = 1\n",
        "\n",
        "# Set the system matrices A, B, C, and D\n",
        "A = np.random.rand(n, n)\n",
        "B = np.random.rand(n, m)\n",
        "C = np.random.rand(p, n)\n",
        "D = np.random.rand(p, m)\n",
        "\n",
        "# Calculate the inverse of (sI - A)\n",
        "sI = np.eye(n)  # sI has the same shape as A\n",
        "s = np.poly1d([1, 0])  # s = Laplace variable\n",
        "inv_si_a = np.linalg.inv(s(sI) - A)\n",
        "\n",
        "# Calculate the transfer function of the system\n",
        "num, den = signal.ss2tf(A, B, C, D)\n",
        "\n",
        "# Print the results\n",
        "print(\"Inverse of (sI - A):\")\n",
        "print(inv_si_a)\n",
        "print(\"\\nTransfer function:\")\n",
        "print(f\"numerator: {num}\")\n",
        "print(f\"denominator: {den}\")\n"
      ],
      "metadata": {
        "colab": {
          "base_uri": "https://localhost:8080/"
        },
        "id": "QP1znRndLQSJ",
        "outputId": "c89cc412-675e-4c94-d2de-c022cde4d16d"
      },
      "execution_count": null,
      "outputs": [
        {
          "output_type": "stream",
          "name": "stdout",
          "text": [
            "Inverse of (sI - A):\n",
            "[[ 0.25129251 -1.38230253 -0.52706341]\n",
            " [-0.6380199   0.43314769 -0.64320416]\n",
            " [-0.94496449 -2.84255373  0.35207   ]]\n",
            "\n",
            "Transfer function:\n",
            "numerator: [[ 0.66706845 -0.40413016  0.53751431 -0.07591576]]\n",
            "denominator: [ 1.         -1.95804529  0.5382735   0.055263  ]\n"
          ]
        }
      ]
    },
    {
      "cell_type": "markdown",
      "source": [
        "# Example 5: Mathematical linearization\n",
        "\n",
        "First, the equilibrium_point function is defined, which takes the state variable x, the input u, and the parameters F_in, A, and C as inputs, and returns the value of tank_model function evaluated at x, t=0, and u=u, F_in=F_in, A=A, and C=C.\n",
        "The fsolve function from the scipy.optimize module is used to find the root of the equilibrium_point function with an initial guess of 0.1. The resulting root is the value of u*. l* is then calculated from u* using the relationship l* = u*^2/C^2.\n",
        "The Jacobian matrix is calculated by evaluating the partial derivative of the tank_model function with respect to x at the equilibrium point. The result is a 1x1 matrix, which is printed.\n",
        "The linear_tank_model function is defined, which takes the state variable x, the time t, the equilibrium input u_star, and the Jacobian matrix jac as inputs, and returns the derivative of the state variable based on the linearized model.\n",
        "The initial condition is set to x0 = l* + 0.1."
      ],
      "metadata": {
        "id": "UG2oB6CoIFYo"
      }
    },
    {
      "cell_type": "code",
      "source": [
        "import numpy as np\n",
        "from scipy.optimize import fsolve\n",
        "from scipy.integrate import odeint\n",
        "\n",
        "# Define the tank model function\n",
        "def tank_model(x, t, u, F_in, A, C):\n",
        "    # State variable x=l: Tank level\n",
        "    if x < 0:  # Check if x is negative\n",
        "        x = 0  # Set x to zero if it is negative\n",
        "    xp = 1/A * (F_in - C*u*np.sqrt(x))\n",
        "    return xp\n",
        "\n",
        "# Set parameters\n",
        "A = 1\n",
        "C = 2.0\n",
        "F_in = 0  # No disturbance input\n",
        "\n",
        "# Define function to find the equilibrium point\n",
        "def equilibrium_point(x, u, F_in, A, C):\n",
        "    return tank_model(x, 0, u, F_in, A, C)\n",
        "\n",
        "# Find the equilibrium point\n",
        "u_star = fsolve(equilibrium_point, 0.1, args=(F_in, F_in, A, C))[0]\n",
        "l_star = u_star**2 / C**2\n",
        "\n",
        "# Print the equilibrium point\n",
        "print(f\"Equilibrium point: u*={u_star}, l*={l_star}\")\n",
        "\n",
        "# Calculate the Jacobian matrix\n",
        "x_star = np.array([l_star])\n",
        "jac = np.array([[-C*u_star/(2*A*np.sqrt(l_star))]])\n",
        "print(\"Jacobian matrix:\")\n",
        "print(jac)\n",
        "\n",
        "# Define function to calculate the derivative of the state variable\n",
        "def linear_tank_model(x, t, u_star, jac):\n",
        "    return jac.dot(x - np.array([l_star]))\n",
        "\n",
        "# Set initial condition\n",
        "x0 = np.array([l_star + 0.1])\n",
        "\n",
        "# Define time span\n",
        "tspan = np.linspace(0, 100, 101)\n",
        "\n",
        "# Simulate the linearized model\n",
        "x = odeint(linear_tank_model, x0, tspan, args=(u_star, jac))\n",
        "\n",
        "# Plot the result\n",
        "import matplotlib.pyplot as plt\n",
        "plt.plot(tspan, x[:,0], 'k')\n",
        "plt.grid(True)\n",
        "plt.xlabel('Time (sec)')\n",
        "plt.ylabel('Tank Level (m)')\n",
        "plt.title('Linearized Tank Model')\n",
        "plt.show()"
      ],
      "metadata": {
        "colab": {
          "base_uri": "https://localhost:8080/",
          "height": 347
        },
        "id": "w1BRln0iJTTq",
        "outputId": "c14ef4dc-aebc-480c-9e95-8bf86d05bb75"
      },
      "execution_count": null,
      "outputs": [
        {
          "output_type": "stream",
          "name": "stdout",
          "text": [
            "Equilibrium point: u*=0.1, l*=0.0025000000000000005\n",
            "Jacobian matrix:\n",
            "[[-2.]]\n"
          ]
        },
        {
          "output_type": "display_data",
          "data": {
            "text/plain": [
              "<Figure size 432x288 with 1 Axes>"
            ],
            "image/png": "[encoded data removed]"
          },
          "metadata": {
            "needs_background": "light"
          }
        }
      ]
    },
    {
      "cell_type": "code",
      "source": [
        "import numpy as np\n",
        "from scipy.optimize import fsolve\n",
        "\n",
        "# Define constants\n",
        "A = 1\n",
        "C = 2.0\n",
        "Fin_star = 0.1  # Input disturbance\n",
        "ld_star = 0.25  # Tank level disturbance\n",
        "\n",
        "# Define the function that calculates the tank level derivative\n",
        "def tank_model(t, x, F_in, u):\n",
        "    # State variable x = l: Tank level\n",
        "    xp = 1/A * (F_in - C*u*np.sqrt(x))\n",
        "    return xp\n",
        "\n",
        "# Define the function to find the equilibrium point\n",
        "def find_equilibrium(F_in, l_d):\n",
        "    # Define the function to solve for the equilibrium point\n",
        "    def equations(x):\n",
        "        u, l = x\n",
        "        eq1 = F_in - C*u*np.sqrt(l)  # Mass balance equation\n",
        "        eq2 = tank_model(0, l, F_in, u) - l_d  # Level equation\n",
        "        return eq1, eq2\n",
        "    \n",
        "    # Use fsolve to solve for the equilibrium point\n",
        "    x0 = [0.1, 0.5]  # Initial guess\n",
        "    u_star, l_star = fsolve(equations, x0)\n",
        "    return u_star, l_star\n",
        "\n",
        "# Find the equilibrium point\n",
        "u_star, l_star = find_equilibrium(Fin_star, ld_star)\n",
        "\n",
        "# Calculate the Jacobian matrix at the equilibrium point\n",
        "J11 = -C/(4*A*l_star**(3/2)) * Fin_star\n",
        "J12 = C/(2*np.sqrt(l_star)) * u_star\n",
        "J21 = 1/A * (-C/(2*np.sqrt(l_star)))\n",
        "J22 = 0\n",
        "J = np.array([[J11, J12], [J21, J22]])\n",
        "\n",
        "# Print the Jacobian matrix\n",
        "print(\"Jacobian matrix:\")\n",
        "print(J)\n",
        "\n",
        "# Print the linearized equation\n",
        "print(\"Linearized equation:\")\n",
        "print(\"delta_l' = {:.4f} * delta_u + {:.4f} * delta_l\".format(J[0,0], J[0,1]))"
      ],
      "metadata": {
        "colab": {
          "base_uri": "https://localhost:8080/"
        },
        "id": "t6Oqkbt8LFh0",
        "outputId": "330750ca-fdd7-4b56-9db9-593096fc17d0"
      },
      "execution_count": null,
      "outputs": [
        {
          "output_type": "stream",
          "name": "stdout",
          "text": [
            "Jacobian matrix:\n",
            "[[-0.14142136  0.14142136]\n",
            " [-1.41421356  0.        ]]\n",
            "Linearized equation:\n",
            "delta_l' = -0.1414 * delta_u + 0.1414 * delta_l\n"
          ]
        },
        {
          "output_type": "stream",
          "name": "stderr",
          "text": [
            "<ipython-input-30-b1c9f167b709>:21: RuntimeWarning: invalid value encountered in sqrt\n",
            "  eq1 = F_in - C*u*np.sqrt(l)  # Mass balance equation\n",
            "<ipython-input-30-b1c9f167b709>:13: RuntimeWarning: invalid value encountered in sqrt\n",
            "  xp = 1/A * (F_in - C*u*np.sqrt(x))\n",
            "/usr/local/lib/python3.9/dist-packages/scipy/optimize/_minpack_py.py:178: RuntimeWarning: The iteration is not making good progress, as measured by the \n",
            "  improvement from the last ten iterations.\n",
            "  warnings.warn(msg, RuntimeWarning)\n"
          ]
        }
      ]
    },
    {
      "cell_type": "markdown",
      "metadata": {
        "nbpages": {
          "level": 1,
          "link": "[1.1 Getting Started with Python and Jupyter Notebooks](https://jckantor.github.io/CBE30338/01.01-Getting-Started-with-Python-and-Jupyter-Notebooks.html#1.1-Getting-Started-with-Python-and-Jupyter-Notebooks)",
          "section": "1.1 Getting Started with Python and Jupyter Notebooks"
        },
        "id": "pdMYTtIM4wpN"
      },
      "source": [
        "# 1.1 Getting Started with Python and Jupyter Notebooks"
      ]
    },
    {
      "cell_type": "markdown",
      "metadata": {
        "nbpages": {
          "level": 2,
          "link": "[1.1.1 Summary](https://jckantor.github.io/CBE30338/01.01-Getting-Started-with-Python-and-Jupyter-Notebooks.html#1.1.1-Summary)",
          "section": "1.1.1 Summary"
        },
        "id": "FxpKwiC14wpN"
      },
      "source": [
        "## 1.1.1 Summary\n",
        "\n",
        "The purpose of this [Jupyter Notebook](http://jupyter.org/) is to get you started using Python and Jupyter Notebooks for routine chemical engineering calculations. This introduction assumes this is your first exposure to Python or Jupyter notebooks."
      ]
    },
    {
      "cell_type": "markdown",
      "metadata": {
        "nbpages": {
          "level": 2,
          "link": "[1.1.2 Step 0: Gain Executable Access to Jupyter Notebooks](https://jckantor.github.io/CBE30338/01.01-Getting-Started-with-Python-and-Jupyter-Notebooks.html#1.1.2-Step-0:-Gain-Executable-Access-to-Jupyter-Notebooks)",
          "section": "1.1.2 Step 0: Gain Executable Access to Jupyter Notebooks"
        },
        "id": "uX67oRYZ4wpO"
      },
      "source": [
        "## 1.1.2 Step 0: Gain Executable Access to Jupyter Notebooks\n",
        "\n",
        "Jupyter notebooks are documents that can be viewed and executed inside any modern web browser. Since you're reading this notebook, you already know how to view a Jupyter notebook. The next step is to learn how to execute computations that may be embedded in a Jupyter notebook.\n",
        "\n",
        "To execute Python code in a notebook you will need access to a Python kernal. A kernal is simply a program that runs in the background, maintains workspace memory for variables and functions, and executes Python code.  The kernal can be located on the same laptop as your web browser or located in an on-line cloud service. \n",
        "\n",
        "**Important Note Regarding Versions** There are two versions of Python in widespread use. Version 2.7 released in 2010, which was the last release of the 2.x series. Version 3.5 is the most recent release of the 3.x series which represents the future direction of language. It has taken years for the major scientific libraries to complete the transition from 2.x to 3.x, but it is now safe to recommend Python 3.x for widespread use. So for this course be sure to use latest verstion, currently 3.6, of the Python language."
      ]
    },
    {
      "cell_type": "markdown",
      "metadata": {
        "nbpages": {
          "level": 3,
          "link": "[1.1.2.1 Using Jupyter/Python in the Cloud](https://jckantor.github.io/CBE30338/01.01-Getting-Started-with-Python-and-Jupyter-Notebooks.html#1.1.2.1-Using-Jupyter/Python-in-the-Cloud)",
          "section": "1.1.2.1 Using Jupyter/Python in the Cloud"
        },
        "id": "ASRHWXvt4wpO"
      },
      "source": [
        "### 1.1.2.1 Using Jupyter/Python in the Cloud\n",
        "\n",
        "The easiest way to use Jupyter notebooks is to sign up for a free or paid account on a cloud-based service such as [Wakari.io](https://www.wakari.io/) or [SageMathCloud](https://cloud.sagemath.com/). You will need continuous internet connectivity to access your work, but the advantages are there is no software to install or maintain. All you need is a modern web browser on your laptop, Chromebook, tablet or other device. Note that the free services are generally heavily oversubscribed, so you should consider a paid account to assure access during prime hours.\n",
        "\n",
        "There are also demonstration sites in the cloud, such as [tmpnb.org](https://tmpnb.org/). These start an interactive session where you can upload an existing notebook or create a new one from scratch. Though convenient, these sites are intended mainly for demonstration and generally quite overloaded. More significantly, there is no way to retain your work between sessions, and some python functionality is removed for security reasons."
      ]
    },
    {
      "cell_type": "markdown",
      "metadata": {
        "nbpages": {
          "level": 3,
          "link": "[1.1.2.2 Installing Jupyter/Python on your Laptop](https://jckantor.github.io/CBE30338/01.01-Getting-Started-with-Python-and-Jupyter-Notebooks.html#1.1.2.2-Installing-Jupyter/Python-on-your-Laptop)",
          "section": "1.1.2.2 Installing Jupyter/Python on your Laptop"
        },
        "id": "ORnU34-V4wpP"
      },
      "source": [
        "### 1.1.2.2 Installing Jupyter/Python on your Laptop\n",
        "\n",
        "For regular off-line use you should consider installing a Jupyter Notebook/Python environment directly on your laptop. This will provide you with reliable off-line access to a computational environment. This will also allow you to install additional code libraries to meet particular needs. \n",
        "\n",
        "Choosing this option will require an initial software installation and routine updates. For this course the recommended package is [Anaconda](https://store.continuum.io/cshop/anaconda/) available from [Continuum Analytics](http://continuum.io/). Downloading and installing the software is well documented and easy to follow. Allow about 10-30 minutes for the installation depending on your connection speed. \n",
        "\n",
        "After installing be sure to check for updates before proceeding further. With the Anaconda package this is done by executing the following two commands in a terminal window:\n",
        "\n",
        "    > conda update conda\n",
        "    > conda update anaconda\n",
        "\n",
        "Anaconda includes an 'Anaconda Navigator' application that simplifies startup of the notebook environment and manage the update process."
      ]
    },
    {
      "cell_type": "markdown",
      "metadata": {
        "nbpages": {
          "level": 2,
          "link": "[1.1.3 Step 1: Start a Jupyter Notebook Session](https://jckantor.github.io/CBE30338/01.01-Getting-Started-with-Python-and-Jupyter-Notebooks.html#1.1.3-Step-1:-Start-a-Jupyter-Notebook-Session)",
          "section": "1.1.3 Step 1: Start a Jupyter Notebook Session"
        },
        "id": "KvWH5Yka4wpP"
      },
      "source": [
        "## 1.1.3 Step 1: Start a Jupyter Notebook Session\n",
        "\n",
        "If you are using a cloud-based service a Jupyter session will be started when you log on. \n",
        "\n",
        "If you have installed a Jupyter/Python distribution on your laptop then you can open a Jupyter session in one of two different ways:\n",
        "\n",
        "* Use the Anaconda Navigator App, or \n",
        "* open a terminal window on your laptop and execute the following statement at the command line:\n",
        "\n",
        "        > jupyter notebook\n",
        "\n",
        "Either way, once you have opened a session you should see a browser window like this:\n",
        "\n",
        "![Screen Shot Jupyter Session](figures/Screen-Shot-Jupyter-Session.png)\n",
        "\n",
        "At this point the browser displays a list of directories and files. You can navigate amoung the directories in the usual way by clicking on directory names or on the 'breadcrumbs' located just about the listing. \n",
        "\n",
        "Jupyter notebooks are simply files in a directory with a `.ipynb` suffix. They can be stored in any directory including Dropbox or Google Drive. Upload and create new Jupyter notebooks in the displayed directory using the appropriate buttons. Use the checkboxes to select items for other actions, such as to duplicate, to rename, or to delete notebooks and directories.\n",
        "\n",
        "* select one of your existing notebooks to work on,\n",
        "* start a new notebook by clicking on the `New Notebook` button, or \n",
        "* import a notebook from another directory by dragging it onto the list of notebooks.\n",
        "\n",
        "An IPython notebook consists of cells that hold headings, text, or python code. The user interface is relatively self-explanatory. Take a few minutes now to open, rename, and save a new notebook. \n",
        "\n",
        "Here's a quick video overview of Jupyter notebooks."
      ]
    },
    {
      "cell_type": "code",
      "execution_count": null,
      "metadata": {
        "nbpages": {
          "level": 2,
          "link": "[1.1.3 Step 1: Start a Jupyter Notebook Session](https://jckantor.github.io/CBE30338/01.01-Getting-Started-with-Python-and-Jupyter-Notebooks.html#1.1.3-Step-1:-Start-a-Jupyter-Notebook-Session)",
          "section": "1.1.3 Step 1: Start a Jupyter Notebook Session"
        },
        "id": "DSGfzjI04wpQ",
        "outputId": "96635a39-9897-4e77-89c8-673e8ab7d5e7"
      },
      "outputs": [
        {
          "data": {
            "image/jpeg": "[encoded data removed]",
            "text/html": [
              "\n",
              "        <iframe\n",
              "            width=\"560\"\n",
              "            height=\"315\"\n",
              "            src=\"https://www.youtube.com/embed/HW29067qVWk?rel=0\"\n",
              "            frameborder=\"0\"\n",
              "            allowfullscreen\n",
              "        ></iframe>\n",
              "        "
            ],
            "text/plain": [
              "<IPython.lib.display.YouTubeVideo at 0x102b24ad0>"
            ]
          },
          "execution_count": 1,
          "metadata": {},
          "output_type": "execute_result"
        }
      ],
      "source": [
        "from IPython.display import YouTubeVideo\n",
        "YouTubeVideo(\"HW29067qVWk\",560,315,rel=0)"
      ]
    },
    {
      "cell_type": "markdown",
      "metadata": {
        "nbpages": {
          "level": 2,
          "link": "[1.1.4 Step 2: Simple Calculations with Python](https://jckantor.github.io/CBE30338/01.01-Getting-Started-with-Python-and-Jupyter-Notebooks.html#1.1.4-Step-2:-Simple-Calculations-with-Python)",
          "section": "1.1.4 Step 2: Simple Calculations with Python"
        },
        "id": "oHMWZXmn4wpR"
      },
      "source": [
        "## 1.1.4 Step 2: Simple Calculations with Python\n",
        "\n",
        "Python is an elegant and modern language for programming and problem solving that has found increasing use by engineers and scientists.  In the next few cells we'll demonstrate some basic Python functionality."
      ]
    },
    {
      "cell_type": "markdown",
      "metadata": {
        "nbpages": {
          "level": 3,
          "link": "[1.1.4.1 Basic Arithmetic Operations](https://jckantor.github.io/CBE30338/01.01-Getting-Started-with-Python-and-Jupyter-Notebooks.html#1.1.4.1-Basic-Arithmetic-Operations)",
          "section": "1.1.4.1 Basic Arithmetic Operations"
        },
        "id": "JLEmKu_Y4wpR"
      },
      "source": [
        "### 1.1.4.1 Basic Arithmetic Operations\n",
        "\n",
        "Basic arithmetic operations are built into the Python langauge. Here are some examples. In particular, note that exponentiation is done with the \\*\\* operator."
      ]
    },
    {
      "cell_type": "code",
      "execution_count": null,
      "metadata": {
        "nbpages": {
          "level": 3,
          "link": "[1.1.4.1 Basic Arithmetic Operations](https://jckantor.github.io/CBE30338/01.01-Getting-Started-with-Python-and-Jupyter-Notebooks.html#1.1.4.1-Basic-Arithmetic-Operations)",
          "section": "1.1.4.1 Basic Arithmetic Operations"
        },
        "id": "iz2NnHIu4wpS",
        "outputId": "ed490547-2b0d-4d92-f142-9bca1c0b9535"
      },
      "outputs": [
        {
          "name": "stdout",
          "output_type": "stream",
          "text": [
            "14\n",
            "144\n",
            "6.0\n"
          ]
        }
      ],
      "source": [
        "a = 12\n",
        "b = 2\n",
        "\n",
        "print(a + b)\n",
        "print(a**b)\n",
        "print(a/b)"
      ]
    },
    {
      "cell_type": "markdown",
      "metadata": {
        "nbpages": {
          "level": 3,
          "link": "[1.1.4.2 Python Libraries](https://jckantor.github.io/CBE30338/01.01-Getting-Started-with-Python-and-Jupyter-Notebooks.html#1.1.4.2-Python-Libraries)",
          "section": "1.1.4.2 Python Libraries"
        },
        "id": "CEtff71b4wpS"
      },
      "source": [
        "### 1.1.4.2 Python Libraries\n",
        "\n",
        "The Python language has only very basic operations. Most math functions are in various math libraries. The `numpy` library is convenient library.  This next cell shows how to import `numpy` with the prefix `np`, then use it to call a common mathematical functions."
      ]
    },
    {
      "cell_type": "code",
      "execution_count": null,
      "metadata": {
        "nbpages": {
          "level": 3,
          "link": "[1.1.4.2 Python Libraries](https://jckantor.github.io/CBE30338/01.01-Getting-Started-with-Python-and-Jupyter-Notebooks.html#1.1.4.2-Python-Libraries)",
          "section": "1.1.4.2 Python Libraries"
        },
        "id": "7nyqGVDv4wpS",
        "outputId": "a7dbdb43-23c8-4fb0-b3ac-eb87fe628d40"
      },
      "outputs": [
        {
          "name": "stdout",
          "output_type": "stream",
          "text": [
            "3.141592653589793\n",
            "2.718281828459045\n",
            "0.707106781187\n",
            "0.707106781187\n",
            "1.0\n"
          ]
        }
      ],
      "source": [
        "import numpy as np\n",
        "\n",
        "# mathematical constants\n",
        "print(np.pi)\n",
        "print(np.e)\n",
        "\n",
        "# trignometric functions\n",
        "angle = np.pi/4\n",
        "print(np.sin(angle))\n",
        "print(np.cos(angle))\n",
        "print(np.tan(angle))"
      ]
    },
    {
      "cell_type": "markdown",
      "metadata": {
        "nbpages": {
          "level": 3,
          "link": "[1.1.4.3 Working with Lists](https://jckantor.github.io/CBE30338/01.01-Getting-Started-with-Python-and-Jupyter-Notebooks.html#1.1.4.3-Working-with-Lists)",
          "section": "1.1.4.3 Working with Lists"
        },
        "id": "7F4suo164wpS"
      },
      "source": [
        "### 1.1.4.3 Working with Lists\n",
        "\n",
        "Lists are a versatile way of organizing your data in Python. Here are some examples, more can be found on [this Khan Academy video](http://youtu.be/zEyEC34MY1A)."
      ]
    },
    {
      "cell_type": "code",
      "execution_count": null,
      "metadata": {
        "nbpages": {
          "level": 3,
          "link": "[1.1.4.3 Working with Lists](https://jckantor.github.io/CBE30338/01.01-Getting-Started-with-Python-and-Jupyter-Notebooks.html#1.1.4.3-Working-with-Lists)",
          "section": "1.1.4.3 Working with Lists"
        },
        "id": "2rRdsU5N4wpT",
        "outputId": "401a5fa4-dc00-4b83-ec2e-9305830ed6d7"
      },
      "outputs": [
        {
          "data": {
            "text/plain": [
              "[1, 2, 3, 4]"
            ]
          },
          "execution_count": 4,
          "metadata": {},
          "output_type": "execute_result"
        }
      ],
      "source": [
        "xList = [1, 2, 3, 4]\n",
        "xList"
      ]
    },
    {
      "cell_type": "markdown",
      "metadata": {
        "nbpages": {
          "level": 3,
          "link": "[1.1.4.3 Working with Lists](https://jckantor.github.io/CBE30338/01.01-Getting-Started-with-Python-and-Jupyter-Notebooks.html#1.1.4.3-Working-with-Lists)",
          "section": "1.1.4.3 Working with Lists"
        },
        "id": "cB-EvS2C4wpT"
      },
      "source": [
        "Concatentation is the operation of joining one list to another. "
      ]
    },
    {
      "cell_type": "code",
      "execution_count": null,
      "metadata": {
        "nbpages": {
          "level": 3,
          "link": "[1.1.4.3 Working with Lists](https://jckantor.github.io/CBE30338/01.01-Getting-Started-with-Python-and-Jupyter-Notebooks.html#1.1.4.3-Working-with-Lists)",
          "section": "1.1.4.3 Working with Lists"
        },
        "id": "LLQEfMac4wpT",
        "outputId": "8b44a8ab-2d09-4216-ad00-bf7cd300bfa6"
      },
      "outputs": [
        {
          "data": {
            "text/plain": [
              "[1, 2, 3, 4, 5, 6, 7, 8]"
            ]
          },
          "execution_count": 5,
          "metadata": {},
          "output_type": "execute_result"
        }
      ],
      "source": [
        "# Concatenation\n",
        "x = [1, 2, 3, 4];\n",
        "y = [5, 6, 7, 8];\n",
        "\n",
        "x + y"
      ]
    },
    {
      "cell_type": "markdown",
      "metadata": {
        "nbpages": {
          "level": 3,
          "link": "[1.1.4.3 Working with Lists](https://jckantor.github.io/CBE30338/01.01-Getting-Started-with-Python-and-Jupyter-Notebooks.html#1.1.4.3-Working-with-Lists)",
          "section": "1.1.4.3 Working with Lists"
        },
        "id": "eT2Xac_R4wpT"
      },
      "source": [
        "Sum a list of numbers"
      ]
    },
    {
      "cell_type": "code",
      "execution_count": null,
      "metadata": {
        "nbpages": {
          "level": 3,
          "link": "[1.1.4.3 Working with Lists](https://jckantor.github.io/CBE30338/01.01-Getting-Started-with-Python-and-Jupyter-Notebooks.html#1.1.4.3-Working-with-Lists)",
          "section": "1.1.4.3 Working with Lists"
        },
        "id": "_Jg9Z2we4wpT",
        "outputId": "8e940ab8-a86c-4745-8566-9db1adee26fd"
      },
      "outputs": [
        {
          "data": {
            "text/plain": [
              "10"
            ]
          },
          "execution_count": 6,
          "metadata": {},
          "output_type": "execute_result"
        }
      ],
      "source": [
        "np.sum(x)"
      ]
    },
    {
      "cell_type": "markdown",
      "metadata": {
        "nbpages": {
          "level": 3,
          "link": "[1.1.4.3 Working with Lists](https://jckantor.github.io/CBE30338/01.01-Getting-Started-with-Python-and-Jupyter-Notebooks.html#1.1.4.3-Working-with-Lists)",
          "section": "1.1.4.3 Working with Lists"
        },
        "id": "ygvRfW8Z4wpU"
      },
      "source": [
        "An element-by-element operation between two lists may be performed with "
      ]
    },
    {
      "cell_type": "code",
      "execution_count": null,
      "metadata": {
        "nbpages": {
          "level": 3,
          "link": "[1.1.4.3 Working with Lists](https://jckantor.github.io/CBE30338/01.01-Getting-Started-with-Python-and-Jupyter-Notebooks.html#1.1.4.3-Working-with-Lists)",
          "section": "1.1.4.3 Working with Lists"
        },
        "id": "x_13YVOa4wpU",
        "outputId": "e4d58e93-11ab-479a-d670-5270ef883de5"
      },
      "outputs": [
        {
          "name": "stdout",
          "output_type": "stream",
          "text": [
            "[ 6  8 10 12]\n",
            "70\n"
          ]
        }
      ],
      "source": [
        "print(np.add(x,y))\n",
        "print(np.dot(x,y))"
      ]
    },
    {
      "cell_type": "markdown",
      "metadata": {
        "nbpages": {
          "level": 3,
          "link": "[1.1.4.3 Working with Lists](https://jckantor.github.io/CBE30338/01.01-Getting-Started-with-Python-and-Jupyter-Notebooks.html#1.1.4.3-Working-with-Lists)",
          "section": "1.1.4.3 Working with Lists"
        },
        "id": "aiVgBVf54wpU"
      },
      "source": [
        "A for loop is a means for iterating over the elements of a list. The colon marks the start of code that will be executed for each element of a list. Indenting has meaning in Python. In this case, everything in the indented block will be executed on each iteration of the for loop. This example also demonstrates string formatting."
      ]
    },
    {
      "cell_type": "code",
      "execution_count": null,
      "metadata": {
        "nbpages": {
          "level": 3,
          "link": "[1.1.4.3 Working with Lists](https://jckantor.github.io/CBE30338/01.01-Getting-Started-with-Python-and-Jupyter-Notebooks.html#1.1.4.3-Working-with-Lists)",
          "section": "1.1.4.3 Working with Lists"
        },
        "id": "uc47Qw-44wpU",
        "outputId": "6a6e3c82-0dad-44c2-ea72-d831bd462ca7"
      },
      "outputs": [
        {
          "name": "stdout",
          "output_type": "stream",
          "text": [
            "sin(1) =  0.84147\n",
            "sin(2) =  0.90930\n",
            "sin(3) =  0.14112\n",
            "sin(4) = -0.75680\n"
          ]
        }
      ],
      "source": [
        "for x in xList:\n",
        "    print(\"sin({0}) = {1:8.5f}\".format(x,np.sin(x)))"
      ]
    },
    {
      "cell_type": "markdown",
      "metadata": {
        "nbpages": {
          "level": 3,
          "link": "[1.1.4.4 Working with Dictionaries](https://jckantor.github.io/CBE30338/01.01-Getting-Started-with-Python-and-Jupyter-Notebooks.html#1.1.4.4-Working-with-Dictionaries)",
          "section": "1.1.4.4 Working with Dictionaries"
        },
        "id": "luc52nTx4wpV"
      },
      "source": [
        "### 1.1.4.4 Working with Dictionaries\n",
        "\n",
        "Dictionaries are useful for storing and retrieving data as key-value pairs.  For example, here is a short dictionary of molar masses. The keys are molecular formulas, and the values are the corresponding molar masses."
      ]
    },
    {
      "cell_type": "code",
      "execution_count": null,
      "metadata": {
        "nbpages": {
          "level": 3,
          "link": "[1.1.4.4 Working with Dictionaries](https://jckantor.github.io/CBE30338/01.01-Getting-Started-with-Python-and-Jupyter-Notebooks.html#1.1.4.4-Working-with-Dictionaries)",
          "section": "1.1.4.4 Working with Dictionaries"
        },
        "id": "DjwGxQhz4wpV",
        "outputId": "9ac69ea1-0b16-4809-8dbe-0e25fda8dbc1"
      },
      "outputs": [
        {
          "data": {
            "text/plain": [
              "{'CH4': 16.04, 'CO2': 44.01, 'H2O': 18.02, 'O2': 32.0}"
            ]
          },
          "execution_count": 9,
          "metadata": {},
          "output_type": "execute_result"
        }
      ],
      "source": [
        "mw = {'CH4': 16.04, 'H2O': 18.02, 'O2':32.00, 'CO2': 44.01}\n",
        "mw"
      ]
    },
    {
      "cell_type": "markdown",
      "metadata": {
        "nbpages": {
          "level": 3,
          "link": "[1.1.4.4 Working with Dictionaries](https://jckantor.github.io/CBE30338/01.01-Getting-Started-with-Python-and-Jupyter-Notebooks.html#1.1.4.4-Working-with-Dictionaries)",
          "section": "1.1.4.4 Working with Dictionaries"
        },
        "id": "dAc7c0aI4wpV"
      },
      "source": [
        "We can a value to an existing dictionary."
      ]
    },
    {
      "cell_type": "code",
      "execution_count": null,
      "metadata": {
        "nbpages": {
          "level": 3,
          "link": "[1.1.4.4 Working with Dictionaries](https://jckantor.github.io/CBE30338/01.01-Getting-Started-with-Python-and-Jupyter-Notebooks.html#1.1.4.4-Working-with-Dictionaries)",
          "section": "1.1.4.4 Working with Dictionaries"
        },
        "id": "YyuL7i1E4wpV",
        "outputId": "05e0e590-3ed6-441b-f00e-d3e85920c70e"
      },
      "outputs": [
        {
          "data": {
            "text/plain": [
              "{'C8H18': 114.23, 'CH4': 16.04, 'CO2': 44.01, 'H2O': 18.02, 'O2': 32.0}"
            ]
          },
          "execution_count": 10,
          "metadata": {},
          "output_type": "execute_result"
        }
      ],
      "source": [
        "mw['C8H18'] = 114.23\n",
        "mw"
      ]
    },
    {
      "cell_type": "markdown",
      "metadata": {
        "nbpages": {
          "level": 3,
          "link": "[1.1.4.4 Working with Dictionaries](https://jckantor.github.io/CBE30338/01.01-Getting-Started-with-Python-and-Jupyter-Notebooks.html#1.1.4.4-Working-with-Dictionaries)",
          "section": "1.1.4.4 Working with Dictionaries"
        },
        "id": "-BlmmPiX4wpW"
      },
      "source": [
        "We can retrieve a value from a dictionary."
      ]
    },
    {
      "cell_type": "code",
      "execution_count": null,
      "metadata": {
        "nbpages": {
          "level": 3,
          "link": "[1.1.4.4 Working with Dictionaries](https://jckantor.github.io/CBE30338/01.01-Getting-Started-with-Python-and-Jupyter-Notebooks.html#1.1.4.4-Working-with-Dictionaries)",
          "section": "1.1.4.4 Working with Dictionaries"
        },
        "id": "TRn57_vw4wpW",
        "outputId": "33732be7-0bb0-4c40-f46d-d6d48e7d6d2f"
      },
      "outputs": [
        {
          "data": {
            "text/plain": [
              "16.04"
            ]
          },
          "execution_count": 11,
          "metadata": {},
          "output_type": "execute_result"
        }
      ],
      "source": [
        "mw['CH4']"
      ]
    },
    {
      "cell_type": "markdown",
      "metadata": {
        "nbpages": {
          "level": 3,
          "link": "[1.1.4.4 Working with Dictionaries](https://jckantor.github.io/CBE30338/01.01-Getting-Started-with-Python-and-Jupyter-Notebooks.html#1.1.4.4-Working-with-Dictionaries)",
          "section": "1.1.4.4 Working with Dictionaries"
        },
        "id": "NajZf6uL4wpW"
      },
      "source": [
        "A for loop is a useful means of interating over all key-value pairs of a dictionary."
      ]
    },
    {
      "cell_type": "code",
      "execution_count": null,
      "metadata": {
        "nbpages": {
          "level": 3,
          "link": "[1.1.4.4 Working with Dictionaries](https://jckantor.github.io/CBE30338/01.01-Getting-Started-with-Python-and-Jupyter-Notebooks.html#1.1.4.4-Working-with-Dictionaries)",
          "section": "1.1.4.4 Working with Dictionaries"
        },
        "id": "c2EJVVo54wpW",
        "outputId": "7f8c6730-4b5a-459c-86f1-17d90945b5ad"
      },
      "outputs": [
        {
          "name": "stdout",
          "output_type": "stream",
          "text": [
            "The molar mass of H2O is 18.02  \n",
            "The molar mass of CH4 is 16.04  \n",
            "The molar mass of C8H18 is 114.23 \n",
            "The molar mass of O2 is 32.00  \n",
            "The molar mass of CO2 is 44.01  \n"
          ]
        }
      ],
      "source": [
        "for species in mw.keys():\n",
        "    print(\"The molar mass of {:<s} is {:<7.2f}\".format(species, mw[species]))"
      ]
    },
    {
      "cell_type": "markdown",
      "metadata": {
        "nbpages": {
          "level": 3,
          "link": "[1.1.4.4 Working with Dictionaries](https://jckantor.github.io/CBE30338/01.01-Getting-Started-with-Python-and-Jupyter-Notebooks.html#1.1.4.4-Working-with-Dictionaries)",
          "section": "1.1.4.4 Working with Dictionaries"
        },
        "id": "glaWSQtZ4wpW"
      },
      "source": [
        "Dictionaries can be sorted by key or by value"
      ]
    },
    {
      "cell_type": "code",
      "execution_count": null,
      "metadata": {
        "nbpages": {
          "level": 3,
          "link": "[1.1.4.4 Working with Dictionaries](https://jckantor.github.io/CBE30338/01.01-Getting-Started-with-Python-and-Jupyter-Notebooks.html#1.1.4.4-Working-with-Dictionaries)",
          "section": "1.1.4.4 Working with Dictionaries"
        },
        "id": "KE6DxVVo4wpX",
        "outputId": "ce549a47-3e3f-482e-e575-6418447b7a43"
      },
      "outputs": [
        {
          "name": "stdout",
          "output_type": "stream",
          "text": [
            " C8H18      114.23\n",
            " CH4         16.04\n",
            " CO2         44.01\n",
            " H2O         18.02\n",
            " O2          32.00\n"
          ]
        }
      ],
      "source": [
        "for species in sorted(mw):\n",
        "    print(\" {:<8s}  {:>7.2f}\".format(species, mw[species]))"
      ]
    },
    {
      "cell_type": "code",
      "execution_count": null,
      "metadata": {
        "nbpages": {
          "level": 3,
          "link": "[1.1.4.4 Working with Dictionaries](https://jckantor.github.io/CBE30338/01.01-Getting-Started-with-Python-and-Jupyter-Notebooks.html#1.1.4.4-Working-with-Dictionaries)",
          "section": "1.1.4.4 Working with Dictionaries"
        },
        "id": "Qv4-Kfdj4wpX",
        "outputId": "e26ebd4f-9703-4a86-ce45-2ea98fbf1389"
      },
      "outputs": [
        {
          "name": "stdout",
          "output_type": "stream",
          "text": [
            " CH4         16.04\n",
            " H2O         18.02\n",
            " O2          32.00\n",
            " CO2         44.01\n",
            " C8H18      114.23\n"
          ]
        }
      ],
      "source": [
        "for species in sorted(mw, key = mw.get):\n",
        "    print(\" {:<8s}  {:>7.2f}\".format(species, mw[species]))"
      ]
    },
    {
      "cell_type": "markdown",
      "metadata": {
        "nbpages": {
          "level": 3,
          "link": "[1.1.4.5 Plotting with Matplotlib](https://jckantor.github.io/CBE30338/01.01-Getting-Started-with-Python-and-Jupyter-Notebooks.html#1.1.4.5-Plotting-with-Matplotlib)",
          "section": "1.1.4.5 Plotting with Matplotlib"
        },
        "id": "sNaxeVOn4wpX"
      },
      "source": [
        "### 1.1.4.5 Plotting with Matplotlib\n",
        "\n",
        "Importing the `matplotlib.pyplot` library gives IPython notebooks plotting functionality very similar to Matlab's. Here are some examples using functions from the "
      ]
    },
    {
      "cell_type": "code",
      "execution_count": null,
      "metadata": {
        "nbpages": {
          "level": 3,
          "link": "[1.1.4.5 Plotting with Matplotlib](https://jckantor.github.io/CBE30338/01.01-Getting-Started-with-Python-and-Jupyter-Notebooks.html#1.1.4.5-Plotting-with-Matplotlib)",
          "section": "1.1.4.5 Plotting with Matplotlib"
        },
        "id": "bkvpW_Q04wpX",
        "outputId": "8afebe0c-2275-42f9-b26f-c2a67a590ef2"
      },
      "outputs": [
        {
          "data": {
            "image/png": "[encoded data removed]",
            "text/plain": [
              "<matplotlib.figure.Figure at 0x10f7c1e48>"
            ]
          },
          "metadata": {},
          "output_type": "display_data"
        }
      ],
      "source": [
        "%matplotlib inline\n",
        "\n",
        "import matplotlib.pyplot as plt\n",
        "import numpy as np\n",
        "\n",
        "x = np.linspace(0,10)\n",
        "y = np.sin(x)\n",
        "z = np.cos(x)\n",
        "\n",
        "plt.plot(x,y,'b',x,z,'r')\n",
        "plt.xlabel('Radians');\n",
        "plt.ylabel('Value');\n",
        "plt.title('Plotting Demonstration')\n",
        "plt.legend(['Sin','Cos'])\n",
        "plt.grid()"
      ]
    },
    {
      "cell_type": "code",
      "execution_count": null,
      "metadata": {
        "nbpages": {
          "level": 3,
          "link": "[1.1.4.5 Plotting with Matplotlib](https://jckantor.github.io/CBE30338/01.01-Getting-Started-with-Python-and-Jupyter-Notebooks.html#1.1.4.5-Plotting-with-Matplotlib)",
          "section": "1.1.4.5 Plotting with Matplotlib"
        },
        "id": "Fk1GMIhJ4wpX",
        "outputId": "8ec95df2-21c5-4d10-a2f0-9593bf379835"
      },
      "outputs": [
        {
          "data": {
            "text/plain": [
              "(-1.09972447591003,\n",
              " 1.0979832896606587,\n",
              " -1.0992804688576738,\n",
              " 1.0999657366122702)"
            ]
          },
          "execution_count": 16,
          "metadata": {},
          "output_type": "execute_result"
        },
        {
          "data": {
            "image/png": "[encoded data removed]",
            "text/plain": [
              "<matplotlib.figure.Figure at 0x10e93a710>"
            ]
          },
          "metadata": {},
          "output_type": "display_data"
        }
      ],
      "source": [
        "plt.plot(y,z)\n",
        "plt.axis('equal')"
      ]
    },
    {
      "cell_type": "code",
      "execution_count": null,
      "metadata": {
        "nbpages": {
          "level": 3,
          "link": "[1.1.4.5 Plotting with Matplotlib](https://jckantor.github.io/CBE30338/01.01-Getting-Started-with-Python-and-Jupyter-Notebooks.html#1.1.4.5-Plotting-with-Matplotlib)",
          "section": "1.1.4.5 Plotting with Matplotlib"
        },
        "id": "kSapKI7h4wpY",
        "outputId": "71576678-88f5-4bc4-d8e7-0d0b96b3a0b3"
      },
      "outputs": [
        {
          "data": {
            "text/plain": [
              "<matplotlib.text.Text at 0x112e79390>"
            ]
          },
          "execution_count": 17,
          "metadata": {},
          "output_type": "execute_result"
        },
        {
          "data": {
            "image/png": "[encoded data removed]",
            "text/plain": [
              "<matplotlib.figure.Figure at 0x112dc7ba8>"
            ]
          },
          "metadata": {},
          "output_type": "display_data"
        }
      ],
      "source": [
        "plt.subplot(2,1,1)\n",
        "plt.plot(x,y)\n",
        "plt.title('Sin(x)')\n",
        "\n",
        "plt.subplot(2,1,2)\n",
        "plt.plot(x,z)\n",
        "plt.title('Cos(x)')"
      ]
    },
    {
      "cell_type": "markdown",
      "metadata": {
        "nbpages": {
          "level": 3,
          "link": "[1.1.4.6 Solve Equations using Sympy Library](https://jckantor.github.io/CBE30338/01.01-Getting-Started-with-Python-and-Jupyter-Notebooks.html#1.1.4.6-Solve-Equations-using-Sympy-Library)",
          "section": "1.1.4.6 Solve Equations using Sympy Library"
        },
        "id": "53KVIbB-4wpi"
      },
      "source": [
        "### 1.1.4.6 Solve Equations using Sympy Library\n",
        "\n",
        "One of the best features of Python is the ability to extend it's functionality by importing special purpose libraries of functions. Here we demonstrate the use of a symbolic algebra package [`Sympy`](http://sympy.org/en/index.html) for routine problem solving."
      ]
    },
    {
      "cell_type": "code",
      "execution_count": null,
      "metadata": {
        "nbpages": {
          "level": 3,
          "link": "[1.1.4.6 Solve Equations using Sympy Library](https://jckantor.github.io/CBE30338/01.01-Getting-Started-with-Python-and-Jupyter-Notebooks.html#1.1.4.6-Solve-Equations-using-Sympy-Library)",
          "section": "1.1.4.6 Solve Equations using Sympy Library"
        },
        "id": "dpSI4Rhn4wpi",
        "outputId": "86ae021a-b2b8-4183-980a-b8a6d43ef72c"
      },
      "outputs": [
        {
          "name": "stdout",
          "output_type": "stream",
          "text": [
            "85521.9882637211/V\n"
          ]
        },
        {
          "data": {
            "image/png": "[encoded data removed]",
            "text/plain": [
              "<matplotlib.figure.Figure at 0x112bd64e0>"
            ]
          },
          "metadata": {},
          "output_type": "display_data"
        },
        {
          "data": {
            "text/plain": [
              "<sympy.plotting.plot.Plot at 0x11439fda0>"
            ]
          },
          "execution_count": 18,
          "metadata": {},
          "output_type": "execute_result"
        }
      ],
      "source": [
        "import sympy as sym\n",
        "\n",
        "sym.var('P V n R T');\n",
        "\n",
        "# Gas constant\n",
        "R = 8.314        # J/K/gmol\n",
        "R = R * 1000     # J/K/kgmol\n",
        "\n",
        "# Moles of air\n",
        "mAir = 1         # kg\n",
        "mwAir = 28.97    # kg/kg-mol\n",
        "n = mAir/mwAir   # kg-mol\n",
        "\n",
        "# Temperature\n",
        "T = 298\n",
        "\n",
        "# Equation\n",
        "eqn = sym.Eq(P*V,n*R*T)\n",
        "\n",
        "# Solve for P \n",
        "f = sym.solve(eqn,P)\n",
        "print(f[0])\n",
        "\n",
        "# Use the sympy plot function to plot\n",
        "sym.plot(f[0],(V,1,10),xlabel='Volume m**3',ylabel='Pressure Pa')"
      ]
    },
    {
      "cell_type": "markdown",
      "metadata": {
        "nbpages": {
          "level": 2,
          "link": "[1.1.5 Step 3: Where to Learn More](https://jckantor.github.io/CBE30338/01.01-Getting-Started-with-Python-and-Jupyter-Notebooks.html#1.1.5-Step-3:-Where-to-Learn-More)",
          "section": "1.1.5 Step 3: Where to Learn More"
        },
        "id": "PHiBwRte4wpj"
      },
      "source": [
        "## 1.1.5 Step 3: Where to Learn More\n",
        "\n",
        "Python offers a full range of programming language features, and there is a seemingly endless range of packages for scientific and engineering computations. Here are some suggestions on places you can go for more information on programming for engineering applications in Python."
      ]
    },
    {
      "cell_type": "markdown",
      "metadata": {
        "nbpages": {
          "level": 3,
          "link": "[1.1.5.1 Introduction to Python for Science](https://jckantor.github.io/CBE30338/01.01-Getting-Started-with-Python-and-Jupyter-Notebooks.html#1.1.5.1-Introduction-to-Python-for-Science)",
          "section": "1.1.5.1 Introduction to Python for Science"
        },
        "id": "CnFMKCTA4wpj"
      },
      "source": [
        "### 1.1.5.1 Introduction to Python for Science\n",
        "\n",
        "This excellent introduction to python is aimed at undergraduates in science with no programming experience. It is free and available at the following link.\n",
        "\n",
        "* [Introduction to Python for Science](https://github.com/djpine/pyman)"
      ]
    },
    {
      "cell_type": "markdown",
      "metadata": {
        "nbpages": {
          "level": 3,
          "link": "[1.1.5.2 Tutorial Introduction to Python for Science and Engineering](https://jckantor.github.io/CBE30338/01.01-Getting-Started-with-Python-and-Jupyter-Notebooks.html#1.1.5.2-Tutorial-Introduction-to-Python-for-Science-and-Engineering)",
          "section": "1.1.5.2 Tutorial Introduction to Python for Science and Engineering"
        },
        "id": "z0j_ycfE4wpk"
      },
      "source": [
        "### 1.1.5.2 Tutorial Introduction to Python for Science and Engineering\n",
        "\n",
        "The following text is licensed by the Hesburgh Library for use by Notre Dame students and faculty only. Please refer to the library's [acceptable use policy](http://library.nd.edu/eresources/access/acceptable_use.shtml). Others can find it at [Springer](http://www.springer.com/us/book/9783642549588) or [Amazon](http://www.amazon.com/Scientific-Programming-Computational-Science-Engineering/dp/3642549586/ref=dp_ob_title_bk). Resources for this book are available on [github](http://hplgit.github.io/scipro-primer/).\n",
        "\n",
        "* [A Primer on Scientific Programming with Python (Fourth Edition)](http://link.springer.com.proxy.library.nd.edu/book/10.1007/978-3-642-54959-5) by Hans Petter Langtangen. Resources for this book are available on [github](http://hplgit.github.io/scipro-primer/).\n",
        "\n",
        "pycse is a package of python functions, examples, and document prepared by John Kitchin at Carnegie Mellon University. It is a recommended for its coverage of topics relevant to chemical engineers, including a chapter on typical chemical engineering computations. \n",
        "\n",
        "* [pycse - Python Computations in Science and Engineering](https://github.com/jkitchin/pycse/blob/master/pycse.pdf) by John Kitchin at Carnegie Mellon. This is a link into the the [github repository for pycse](https://github.com/jkitchin/pycse), click on the `Raw` button to download the `.pdf` file."
      ]
    },
    {
      "cell_type": "markdown",
      "metadata": {
        "nbpages": {
          "level": 3,
          "link": "[1.1.5.3 Interative learning and on-line tutorials](https://jckantor.github.io/CBE30338/01.01-Getting-Started-with-Python-and-Jupyter-Notebooks.html#1.1.5.3-Interative-learning-and-on-line-tutorials)",
          "section": "1.1.5.3 Interative learning and on-line tutorials"
        },
        "id": "Vtxx5B0m4wpk"
      },
      "source": [
        "### 1.1.5.3 Interative learning and on-line tutorials\n",
        "\n",
        "* [Code Academy on Python](http://www.codecademy.com/tracks/python)\n",
        "* [Khan Academy Videos on Python Programming](https://www.khanacademy.org/science/computer-science-subject/computer-science)\n",
        "* [Python Tutorial](http://docs.python.org/2/tutorial/)\n",
        "* [Think Python: How to Think Like a Computer Scientist](http://www.greenteapress.com/thinkpython/html/index.html)\n",
        "* [Engineering with Python](http://www.engineeringwithpython.com/)"
      ]
    },
    {
      "cell_type": "markdown",
      "metadata": {
        "nbpages": {
          "level": 3,
          "link": "[1.1.5.4 Official documentation, examples, and galleries](https://jckantor.github.io/CBE30338/01.01-Getting-Started-with-Python-and-Jupyter-Notebooks.html#1.1.5.4-Official-documentation,-examples,-and-galleries)",
          "section": "1.1.5.4 Official documentation, examples, and galleries"
        },
        "id": "LeQF0q7Q4wpl"
      },
      "source": [
        "### 1.1.5.4 Official documentation, examples, and galleries\n",
        "\n",
        "* [Notebook Examples](https://github.com/ipython/ipython/tree/master/examples/notebooks)\n",
        "* [Notebook Gallery](https://github.com/ipython/ipython/wiki/A-gallery-of-interesting-IPython-Notebooks)\n",
        "* [Official Notebook Documentation](http://ipython.org/ipython-doc/stable/interactive/notebook.html)\n",
        "* [Matplotlib](http://matplotlib.org/index.html) "
      ]
    },
    {
      "cell_type": "code",
      "execution_count": null,
      "metadata": {
        "collapsed": true,
        "nbpages": {
          "level": 3,
          "link": "[1.1.5.4 Official documentation, examples, and galleries](https://jckantor.github.io/CBE30338/01.01-Getting-Started-with-Python-and-Jupyter-Notebooks.html#1.1.5.4-Official-documentation,-examples,-and-galleries)",
          "section": "1.1.5.4 Official documentation, examples, and galleries"
        },
        "id": "bCOC-bj64wpl"
      },
      "outputs": [],
      "source": []
    },
    {
      "cell_type": "markdown",
      "metadata": {
        "nbpages": {
          "level": 1,
          "link": "[1.2 Python Basics](https://jckantor.github.io/CBE30338/01.02-Python-Basics.html#1.2-Python-Basics)",
          "section": "1.2 Python Basics"
        },
        "id": "_pheVzmO44c_"
      },
      "source": [
        "# 1.2 Python Basics\n",
        "\n",
        "**A Tutorial by Jacob Gerace**"
      ]
    },
    {
      "cell_type": "markdown",
      "metadata": {
        "nbpages": {
          "level": 2,
          "link": "[1.2.1 What I hope you'll get out of this tutorial](https://jckantor.github.io/CBE30338/01.02-Python-Basics.html#1.2.1-What-I-hope-you'll-get-out-of-this-tutorial)",
          "section": "1.2.1 What I hope you'll get out of this tutorial"
        },
        "id": "0Y1ZhiG144c_"
      },
      "source": [
        "## 1.2.1 What I hope you'll get out of this tutorial\n",
        "* The feeling that you'll \"know where to start\" when you see python code in lecture, or when you need to write python for an assignment.\n",
        "* (You won't be a python expert after one hour)\n",
        "* Basics to variables, lists, conditionals, functions, loops, and the numpy package.\n",
        "* Resources to look further"
      ]
    },
    {
      "cell_type": "markdown",
      "metadata": {
        "nbpages": {
          "level": 3,
          "link": "[1.2.1.1 Why Python?](https://jckantor.github.io/CBE30338/01.02-Python-Basics.html#1.2.1.1-Why-Python?)",
          "section": "1.2.1.1 Why Python?"
        },
        "id": "3rg3pNgy44dA"
      },
      "source": [
        "### 1.2.1.1 Why Python?\n",
        "\n",
        "1. Clean syntax\n",
        "2. The same code can run on all Operating Systems\n",
        "3. **Extensive first and third party libraries (of particular note for our purposes is NumPy)**"
      ]
    },
    {
      "cell_type": "markdown",
      "metadata": {
        "nbpages": {
          "level": 3,
          "link": "[1.2.1.2 Markdown Sidenote](https://jckantor.github.io/CBE30338/01.02-Python-Basics.html#1.2.1.2-Markdown-Sidenote)",
          "section": "1.2.1.2 Markdown Sidenote"
        },
        "id": "kJb7DhPP44dB"
      },
      "source": [
        "### 1.2.1.2 Markdown Sidenote\n",
        " * This text is written in a Markdown block. Markdown is straightforward way to format writeups in Jupyter, but I won't cover it here for the sake of brevity. \n",
        " * See if you can use Markdown in your next homework, here's a link that explains the formatting: https://daringfireball.net/projects/markdown/syntax . \n",
        " * You can also look at existing Markdown examples (i.e. this worksheet) and emulate the style. Double click a Markdown box in Jupyter to show the code.\n",
        " "
      ]
    },
    {
      "cell_type": "markdown",
      "metadata": {
        "nbpages": {
          "level": 3,
          "link": "[1.2.1.3 LaTeX Sidenote](https://jckantor.github.io/CBE30338/01.02-Python-Basics.html#1.2.1.3-LaTeX-Sidenote)",
          "section": "1.2.1.3 LaTeX Sidenote"
        },
        "id": "M4yuXeJU44dB"
      },
      "source": [
        "### 1.2.1.3 LaTeX Sidenote\n",
        "* LaTeX (pronounced \"La-tech\") is a language itself used widely to write documents with symbolic math\n",
        "* When you add a mathematical formula to these markdown blocks, the math is in LaTeX.\n",
        "* Ex from class: $$V \\frac{dC}{dt} = u(t) - Q C(t)$$ \n",
        "* A good resource: https://en.wikibooks.org/wiki/LaTeX/Mathematics\n",
        " \n",
        " "
      ]
    },
    {
      "cell_type": "markdown",
      "metadata": {
        "nbpages": {
          "level": 2,
          "link": "[1.2.2 Python Basics](https://jckantor.github.io/CBE30338/01.02-Python-Basics.html#1.2.2-Python-Basics)",
          "section": "1.2.2 Python Basics"
        },
        "id": "8yxP_X2u44dC"
      },
      "source": [
        "## 1.2.2 Python Basics"
      ]
    },
    {
      "cell_type": "markdown",
      "metadata": {
        "nbpages": {
          "level": 3,
          "link": "[1.2.2.1 Variables](https://jckantor.github.io/CBE30338/01.02-Python-Basics.html#1.2.2.1-Variables)",
          "section": "1.2.2.1 Variables"
        },
        "id": "3Ca2uHyZ44dD"
      },
      "source": [
        "### 1.2.2.1 Variables"
      ]
    },
    {
      "cell_type": "code",
      "execution_count": null,
      "metadata": {
        "nbpages": {
          "level": 3,
          "link": "[1.2.2.1 Variables](https://jckantor.github.io/CBE30338/01.02-Python-Basics.html#1.2.2.1-Variables)",
          "section": "1.2.2.1 Variables"
        },
        "id": "BAi0psEA44dD",
        "outputId": "4d76d907-1f76-4a5d-f29f-75cf68e0f561"
      },
      "outputs": [
        {
          "name": "stdout",
          "output_type": "stream",
          "text": [
            "42\n",
            "3.1415\n"
          ]
        }
      ],
      "source": [
        "#A variable stores a piece of data and gives it a name\n",
        "answer = 42\n",
        "\n",
        "#answer contained an integer because we gave it an integer!\n",
        "\n",
        "is_it_thursday = True\n",
        "is_it_wednesday = False\n",
        "\n",
        "#these both are 'booleans' or true/false values\n",
        "\n",
        "pi_approx = 3.1415\n",
        "\n",
        "#This will be a floating point number, or a number containing digits after the decimal point\n",
        "\n",
        "my_name = \"Jacob\"\n",
        "#This is a string datatype, the name coming from a string of characters\n",
        "\n",
        "#Data doesn't have to be a singular unit\n",
        "\n",
        "#p.s., we can print all of these with a print command. For Example:\n",
        "print(answer)\n",
        "print(pi_approx)"
      ]
    },
    {
      "cell_type": "markdown",
      "metadata": {
        "nbpages": {
          "level": 3,
          "link": "[1.2.2.2 More Complicated Data Types](https://jckantor.github.io/CBE30338/01.02-Python-Basics.html#1.2.2.2-More-Complicated-Data-Types)",
          "section": "1.2.2.2 More Complicated Data Types"
        },
        "id": "DYefjYBF44dG"
      },
      "source": [
        "### 1.2.2.2 More Complicated Data Types"
      ]
    },
    {
      "cell_type": "code",
      "execution_count": null,
      "metadata": {
        "nbpages": {
          "level": 3,
          "link": "[1.2.2.2 More Complicated Data Types](https://jckantor.github.io/CBE30338/01.02-Python-Basics.html#1.2.2.2-More-Complicated-Data-Types)",
          "section": "1.2.2.2 More Complicated Data Types"
        },
        "scrolled": true,
        "id": "14699I0744dG",
        "outputId": "d5441bac-71df-404a-b936-052b00cbf6a5"
      },
      "outputs": [
        {
          "name": "stdout",
          "output_type": "stream",
          "text": [
            "['Green', 'Blue', 'Red']\n",
            "[10, 20, 30, 40, 50, 'Sixty']\n",
            "Green\n",
            "Red\n"
          ]
        }
      ],
      "source": [
        "\n",
        "#What if we want to store many integers? We need a list!\n",
        "prices = [10, 20, 30, 40, 50]\n",
        "\n",
        "#This is a way to define a list in place. We can also make an empty list and add to it.\n",
        "colors = []\n",
        "\n",
        "colors.append(\"Green\")\n",
        "colors.append(\"Blue\")\n",
        "colors.append(\"Red\")\n",
        "\n",
        "print(colors)\n",
        "\n",
        "#We can also add unlike data to a list\n",
        "prices.append(\"Sixty\")\n",
        "\n",
        "#As an exercise, look up lists in python and find out how to add in the middle of a list!\n",
        "\n",
        "print(prices)\n",
        "#We can access a specific element of a list too:\n",
        "\n",
        "print(colors[0])\n",
        "print(colors[2])\n",
        "\n",
        "#Notice here how the first element of the list is index 0, not 1! \n",
        "#Languages like MATLAB are 1 indexed, be careful!\n",
        "\n",
        "#In addition to lists, there are tuples\n",
        "#Tuples behave very similarly to lists except that you can't change them \n",
        "# after you make them\n",
        "\n",
        "#An empty Tuple isn't very useful:\n",
        "empty_tuple = ()\n",
        "\n",
        "#Nor is a tuple with just one value:\n",
        "one_tuple = (\"first\",)\n",
        "\n",
        "#But tuples with many values are useful:\n",
        "rosa_parks_info = (\"Rosa\", \"Parks\", 1913, \"February\", 4)\n",
        "\n",
        "#You can access tuples just like lists\n",
        "print(rosa_parks_info[0] + \" \" + rosa_parks_info[1])\n",
        "\n",
        "# You cannot modify existing tuples, but you can make new tuples that extend \n",
        "# the information.\n",
        "# I expect Tuples to come up less than lists. So we'll just leave it at that. "
      ]
    },
    {
      "cell_type": "markdown",
      "metadata": {
        "nbpages": {
          "level": 3,
          "link": "[1.2.2.3 Using Variables](https://jckantor.github.io/CBE30338/01.02-Python-Basics.html#1.2.2.3-Using-Variables)",
          "section": "1.2.2.3 Using Variables"
        },
        "id": "s6M6N2B844dH"
      },
      "source": [
        "### 1.2.2.3 Using Variables"
      ]
    },
    {
      "cell_type": "code",
      "execution_count": null,
      "metadata": {
        "nbpages": {
          "level": 3,
          "link": "[1.2.2.3 Using Variables](https://jckantor.github.io/CBE30338/01.02-Python-Basics.html#1.2.2.3-Using-Variables)",
          "section": "1.2.2.3 Using Variables"
        },
        "scrolled": true,
        "id": "gt53W2r644dI",
        "outputId": "cff6fce4-9a75-4340-edbf-7e373fbd0941"
      },
      "outputs": [
        {
          "name": "stdout",
          "output_type": "stream",
          "text": [
            "8.0\n",
            "3.5\n",
            "12.9375\n",
            "2.5555555555555554\n",
            "1\n"
          ]
        }
      ],
      "source": [
        "float1 = 5.75\n",
        "float2 = 2.25\n",
        "#Addition, subtraction, multiplication, division are as you expect\n",
        "\n",
        "print(float1 + float2)\n",
        "print(float1 - float2)\n",
        "print(float1 * float2)\n",
        "print(float1 / float2)\n",
        "\n",
        "#Here's an interesting one that showed up in the first homework in 2017. Modulus: \n",
        "print(5 % 2)"
      ]
    },
    {
      "cell_type": "markdown",
      "metadata": {
        "nbpages": {
          "level": 3,
          "link": "[1.2.2.4 Importing in Python: Math and plotting](https://jckantor.github.io/CBE30338/01.02-Python-Basics.html#1.2.2.4-Importing-in-Python:-Math-and-plotting)",
          "section": "1.2.2.4 Importing in Python: Math and plotting"
        },
        "id": "7MAG9FYi44dI"
      },
      "source": [
        "### 1.2.2.4 Importing in Python: Math and plotting"
      ]
    },
    {
      "cell_type": "code",
      "execution_count": null,
      "metadata": {
        "nbpages": {
          "level": 3,
          "link": "[1.2.2.4 Importing in Python: Math and plotting](https://jckantor.github.io/CBE30338/01.02-Python-Basics.html#1.2.2.4-Importing-in-Python:-Math-and-plotting)",
          "section": "1.2.2.4 Importing in Python: Math and plotting"
        },
        "id": "XofY7GMA44dI"
      },
      "outputs": [],
      "source": [
        "#Just about every standard math function on a calculator has a python equivalent pre made.\n",
        "#however, they are from the 'math' package in python. Let's add that package!\n",
        "import math\n",
        "print(math.log(float1))\n",
        "print(math.exp(float2))\n",
        "print(math.pow(2,5))\n",
        "# There is a quicker way to write exponents if you want:\n",
        "print(2.0**5.0)\n",
        "\n",
        "#Like in MATLAB, you can expand the math to entire lists\n",
        "list3 = [1, 2, 3, 4, 5]\n",
        "print(2 * list3)"
      ]
    },
    {
      "cell_type": "code",
      "execution_count": null,
      "metadata": {
        "nbpages": {
          "level": 3,
          "link": "[1.2.2.4 Importing in Python: Math and plotting](https://jckantor.github.io/CBE30338/01.02-Python-Basics.html#1.2.2.4-Importing-in-Python:-Math-and-plotting)",
          "section": "1.2.2.4 Importing in Python: Math and plotting"
        },
        "id": "0F509Dx644dJ",
        "outputId": "e1cf9af4-b442-43ea-cc2e-2189d3a3734e"
      },
      "outputs": [
        {
          "name": "stdout",
          "output_type": "stream",
          "text": [
            "1.749199854809259\n",
            "9.487735836358526\n",
            "32.0\n",
            "32.0\n"
          ]
        },
        {
          "data": {
            "text/plain": [
              "[<matplotlib.lines.Line2D at 0x115181f28>]"
            ]
          },
          "execution_count": 7,
          "metadata": {},
          "output_type": "execute_result"
        },
        {
          "data": {
            "image/png": "[encoded data removed]",
            "text/plain": [
              "<matplotlib.figure.Figure at 0x10e007828>"
            ]
          },
          "metadata": {},
          "output_type": "display_data"
        }
      ],
      "source": [
        "#We can plot easily in Python like in matlab, just import the relevant package!\n",
        "%matplotlib inline\n",
        "import matplotlib.pyplot as plt\n",
        "\n",
        "x_vals = [-2, -1, 0, 1, 2]\n",
        "y_vals = [-4, -2, 0, 2, 4]\n",
        "plt.plot(x_vals, y_vals)"
      ]
    },
    {
      "cell_type": "markdown",
      "metadata": {
        "nbpages": {
          "level": 3,
          "link": "[1.2.2.5 Loops in Python](https://jckantor.github.io/CBE30338/01.02-Python-Basics.html#1.2.2.5-Loops-in-Python)",
          "section": "1.2.2.5 Loops in Python"
        },
        "id": "4ZxwwzfQ44dJ"
      },
      "source": [
        "### 1.2.2.5 Loops in Python"
      ]
    },
    {
      "cell_type": "code",
      "execution_count": null,
      "metadata": {
        "nbpages": {
          "level": 3,
          "link": "[1.2.2.5 Loops in Python](https://jckantor.github.io/CBE30338/01.02-Python-Basics.html#1.2.2.5-Loops-in-Python)",
          "section": "1.2.2.5 Loops in Python"
        },
        "id": "mhJKvTaG44dK",
        "outputId": "f6ced248-e1b0-42dd-a6ec-f0a404614335"
      },
      "outputs": [
        {
          "name": "stdout",
          "output_type": "stream",
          "text": [
            "1\n",
            "1\n",
            "2\n",
            "3\n",
            "5\n",
            "8\n",
            "Let's try that again\n",
            "1\n",
            "1\n",
            "2\n",
            "3\n",
            "5\n",
            "8\n",
            "One more time:\n",
            "1\n",
            "1\n",
            "2\n",
            "3\n",
            "5\n",
            "8\n"
          ]
        }
      ],
      "source": [
        "#Repeat code until a conditional statement ends the loop\n",
        "\n",
        "#Let's try printing a list\n",
        "fib = [1, 1, 2, 3, 5, 8]\n",
        "\n",
        "#While loops are the basic type\n",
        "i = 0\n",
        "while(i < len(fib)):\n",
        "    print(fib[i])\n",
        "    i = i + 1\n",
        "    \n",
        "#In matlab, to do the same thing you would have the conditional as: counter < (length(fib) + 1)\n",
        "#This is because matlab starts indexing at 1, and python starts at 0.\n",
        "    \n",
        "#The above type of loop is so common that the 'for' loop is the way to write it faster.\n",
        "\n",
        "print(\"Let's try that again\")\n",
        "#This is most similar to for loops in matlab\n",
        "for i in range(0, len(fib)) :\n",
        "    print(fib[i])\n",
        "\n",
        "print(\"One more time:\")\n",
        "#Or you can do so even neater\n",
        "for e in fib:\n",
        "    print(e)"
      ]
    },
    {
      "cell_type": "markdown",
      "metadata": {
        "nbpages": {
          "level": 2,
          "link": "[1.2.3 Additional Resources](https://jckantor.github.io/CBE30338/01.02-Python-Basics.html#1.2.3-Additional-Resources)",
          "section": "1.2.3 Additional Resources"
        },
        "id": "FhSEuV4_44dK"
      },
      "source": [
        "## 1.2.3 Additional Resources\n",
        "* If you still feel VERY lost: [Code Academy](https://www.codecademy.com/learn/python)\n",
        "\n",
        "* If you want a good reference site: [Official Python Reference](https://docs.python.org/2/reference/)\n",
        "\n",
        "* If you want to learn python robustly: [Learn Python the Hard Way](https://learnpythonthehardway.org/book/)\n",
        "\n",
        "* Feel free to contact me at: **jgerace (at) nd (dot) edu**\n"
      ]
    },
    {
      "cell_type": "markdown",
      "metadata": {
        "nbpages": {
          "level": 1,
          "link": "[1.3 Python Conditionals and Libraries](https://jckantor.github.io/CBE30338/01.03-Python-Conditionals-and-Libraries.html#1.3-Python-Conditionals-and-Libraries)",
          "section": "1.3 Python Conditionals and Libraries"
        },
        "id": "aXvP1ls15FrQ"
      },
      "source": [
        "# 1.3 Python Conditionals and Libraries"
      ]
    },
    {
      "cell_type": "markdown",
      "metadata": {
        "nbpages": {
          "level": 2,
          "link": "[1.3.1 A Tutorial by Jacob Gerace](https://jckantor.github.io/CBE30338/01.03-Python-Conditionals-and-Libraries.html#1.3.1-A-Tutorial-by-Jacob-Gerace)",
          "section": "1.3.1 A Tutorial by Jacob Gerace"
        },
        "id": "dcBx-6Yu5FrQ"
      },
      "source": [
        "## 1.3.1 A Tutorial by Jacob Gerace"
      ]
    },
    {
      "cell_type": "markdown",
      "metadata": {
        "nbpages": {
          "level": 2,
          "link": "[1.3.2 Conditionals in Python](https://jckantor.github.io/CBE30338/01.03-Python-Conditionals-and-Libraries.html#1.3.2-Conditionals-in-Python)",
          "section": "1.3.2 Conditionals in Python"
        },
        "id": "a71jV7uj5FrR"
      },
      "source": [
        "## 1.3.2 Conditionals in Python"
      ]
    },
    {
      "cell_type": "code",
      "execution_count": null,
      "metadata": {
        "nbpages": {
          "level": 2,
          "link": "[1.3.2 Conditionals in Python](https://jckantor.github.io/CBE30338/01.03-Python-Conditionals-and-Libraries.html#1.3.2-Conditionals-in-Python)",
          "section": "1.3.2 Conditionals in Python"
        },
        "scrolled": true,
        "id": "Tuj2MNie5FrR",
        "outputId": "93a20a07-816d-40c6-8820-bed443bb0501"
      },
      "outputs": [
        {
          "name": "stdout",
          "output_type": "stream",
          "text": [
            "This is the answer to the ultimate question\n",
            "This print statement is run no matter what because it is not indented!\n",
            "It takes me 11 minutes\n"
          ]
        }
      ],
      "source": [
        "#Sometimes you want to execute code only in certain circumstances. \n",
        "\n",
        "#Change answer and see what code is executed:\n",
        "answer = 42\n",
        "\n",
        "if answer == 42:\n",
        "    print('This is the answer to the ultimate question')\n",
        "elif answer < 42:\n",
        "    print('This is less than the answer to the ultimate question')\n",
        "else:\n",
        "    print('This is more than the answer to the ultimate question')\n",
        "print('This print statement is run no matter what because it is not indented!')\n",
        "\n",
        "#An if statement is an example of a structure that creates a new block. The block includes all of the code that is \n",
        "#indented. The indentation (tab character) is imperative. Don't forget it!\n",
        "\n",
        "#This is normally just good coding style in other languages, but in python it isn't optional\n",
        "\n",
        "#We can check multiple things at once using boolean operations\n",
        "snowy = True\n",
        "day = \"Monday\"\n",
        "\n",
        "#How long does it take me to get to class in the morning?\n",
        "\n",
        "if (snowy == False) and (day != \"Monday\"):\n",
        "    #and is boolean and. True only if both are true. False otherwise\n",
        "    time = 7\n",
        "elif (snowy == True) and (day == \"Monday\"):\n",
        "    time = 11\n",
        "elif (rainy == True) or (day == \"Monday\"):\n",
        "    time = 9\n",
        "    \n",
        "print(\"It takes me %d minutes\" %(time))\n",
        "    \n",
        "#You can structure these statements more neatly if you \"nest\" if statements (put an if statement inside an if statement)\n",
        "#But this is just for edification."
      ]
    },
    {
      "cell_type": "markdown",
      "metadata": {
        "nbpages": {
          "level": 2,
          "link": "[1.3.3 Functions in Python](https://jckantor.github.io/CBE30338/01.03-Python-Conditionals-and-Libraries.html#1.3.3-Functions-in-Python)",
          "section": "1.3.3 Functions in Python"
        },
        "id": "rBdsR3eu5FrU"
      },
      "source": [
        "## 1.3.3 Functions in Python"
      ]
    },
    {
      "cell_type": "code",
      "execution_count": null,
      "metadata": {
        "nbpages": {
          "level": 2,
          "link": "[1.3.3 Functions in Python](https://jckantor.github.io/CBE30338/01.03-Python-Conditionals-and-Libraries.html#1.3.3-Functions-in-Python)",
          "section": "1.3.3 Functions in Python"
        },
        "id": "jzBzvtKY5FrV",
        "outputId": "dfe09fb6-cf84-411a-dcfb-464632a842ed"
      },
      "outputs": [
        {
          "name": "stdout",
          "output_type": "stream",
          "text": [
            "-1\n",
            "1\n",
            "None\n",
            "1\n"
          ]
        }
      ],
      "source": [
        "#We can separate off code into functions, that can take input and can give output. They serve as black boxes from the \n",
        "#perspective of the rest of our code\n",
        "\n",
        "#use the def keyword, and indent because this creates a new block\n",
        "def print_me( string ):\n",
        "    print(string)\n",
        "   \n",
        "   #End with the \"return\" keyword\n",
        "    return\n",
        "\n",
        "#Your functions can return data if you so choose\n",
        "def step(x):\n",
        "    if (x < 0):\n",
        "        return -1\n",
        "    elif (x > 0):\n",
        "        return 1\n",
        "\n",
        "#call functions by repeating their name, and putting your variable in the parenthesis. \n",
        "#Your variable need not be named the same thing, but it should be the right type!\n",
        "\n",
        "print(step(-1))\n",
        "print(step(1))\n",
        "\n",
        "#what happens for x = 0?\n",
        "print(step(0))\n",
        "\n",
        "#Python automatically adds in a \"return none\" statement if you are missing one. \n",
        "#If you see \"none\" make sure your program can work with that!\n",
        "\n",
        "\n",
        "#Fix the return none issue\n",
        "def step_v2(x):\n",
        "    if (x < 0):\n",
        "        return -1\n",
        "    elif (x >= 0):\n",
        "        return 1\n",
        "    \n",
        "print(step_v2(0))"
      ]
    },
    {
      "cell_type": "markdown",
      "metadata": {
        "nbpages": {
          "level": 2,
          "link": "[1.3.4 Numpy - \"The Fundamental Package for Scientific Computing with Python\"](https://jckantor.github.io/CBE30338/01.03-Python-Conditionals-and-Libraries.html#1.3.4-Numpy---\"The-Fundamental-Package-for-Scientific-Computing-with-Python\")",
          "section": "1.3.4 Numpy - \"The Fundamental Package for Scientific Computing with Python\""
        },
        "id": "NTMt3Bdj5FrW"
      },
      "source": [
        "## 1.3.4 Numpy - \"The Fundamental Package for Scientific Computing with Python\""
      ]
    },
    {
      "cell_type": "code",
      "execution_count": null,
      "metadata": {
        "nbpages": {
          "level": 2,
          "link": "[1.3.4 Numpy - \"The Fundamental Package for Scientific Computing with Python\"](https://jckantor.github.io/CBE30338/01.03-Python-Conditionals-and-Libraries.html#1.3.4-Numpy---\"The-Fundamental-Package-for-Scientific-Computing-with-Python\")",
          "section": "1.3.4 Numpy - \"The Fundamental Package for Scientific Computing with Python\""
        },
        "id": "HwSEgZnW5FrW",
        "outputId": "9b87844b-c11b-40f2-ae5b-076e82262e1d"
      },
      "outputs": [
        {
          "name": "stdout",
          "output_type": "stream",
          "text": [
            "[1 2 3]\n",
            "1\n",
            "[10 10 10]\n",
            "[-8 -6 -4]\n",
            "[ 9 16 21]\n",
            "[ 0.11111111  0.25        0.42857143]\n",
            "[[14 14 14]\n",
            " [32 32 32]\n",
            " [50 50 50]]\n",
            "-9.51619735393e-16\n"
          ]
        },
        {
          "data": {
            "text/plain": [
              "<matplotlib.text.Text at 0x242d63ab438>"
            ]
          },
          "execution_count": 16,
          "metadata": {},
          "output_type": "execute_result"
        },
        {
          "data": {
            "image/png": "[encoded data removed]",
            "text/plain": [
              "<matplotlib.figure.Figure at 0x242d57f3e10>"
            ]
          },
          "metadata": {},
          "output_type": "display_data"
        }
      ],
      "source": [
        "import numpy as np\n",
        "#Here, we grab all of the functions and tools from the numpy package and store them in a local variable called np.\n",
        "#You can call that variable whatever you like, but 'np' is standard.\n",
        "\n",
        "#numpy has arrays, which function similarly to python lists. \n",
        "a = np.array([1,2,3])\n",
        "b = np.array([9,8,7])\n",
        "#Be careful with syntax. The parentheses and brackets are both required!\n",
        "print(a)\n",
        "\n",
        "#Access elements from them just like you would a regular list\n",
        "print(a[0])\n",
        "\n",
        "#Element-wise operations are a breeze!\n",
        "c = a + b\n",
        "d = a - b\n",
        "e = a * b\n",
        "f = a / b\n",
        "\n",
        "print(c)\n",
        "print(d)\n",
        "print(e)\n",
        "print(f)\n",
        "#This is different from MATLAB where you add a dot to get element wise operators.\n",
        "\n",
        "#What about multi-dimensional arrays? Matrices!\n",
        "\n",
        "#You just nest lists within lists! \n",
        "A = np.array( [[1,2,3], [4,5,6], [7,8,9]] )\n",
        "B = np.array( [[1,1,1], [2,2,2], [3,3,3]] )\n",
        "\n",
        "#Then matrix multlication\n",
        "C = np.matmul(A,B)\n",
        " \n",
        "print(C)\n",
        "\n",
        "#Or determinants:\n",
        "print(np.linalg.det(A))\n",
        "\n",
        "\n",
        "#Now, let's use numpy for something essential for you: Numeric Integration\n",
        "\n",
        "#Define the function you want to integrate....\n",
        "#dy/dt = t:\n",
        "def deriv(y,t):\n",
        "    return t\n",
        "#Note this doesn't use y in the return. That is okay, but we need to include it just to satisfy the function we will use.\n",
        "\n",
        "#Set your initial or boundary condition\n",
        "IC = 0\n",
        "\n",
        "#Give the number of points to evaluate the integration\n",
        "start_time = 0\n",
        "end_time = 10\n",
        "num_times = 101\n",
        "times = np.linspace(start_time, end_time, num_times)\n",
        "\n",
        "from scipy.integrate import odeint\n",
        "integrated_func = odeint(deriv,IC,times)\n",
        "\n",
        "#Can we plot the result? You betcha. Just import a new package\n",
        "%matplotlib inline\n",
        "import matplotlib.pyplot as plt\n",
        "from ipywidgets import interact\n",
        "\n",
        "plt.plot(times, integrated_func)\n",
        "plt.title(\"y = (1/2)t^2\")\n",
        "#Very similar to MATLAB!"
      ]
    },
    {
      "cell_type": "markdown",
      "metadata": {
        "nbpages": {
          "level": 2,
          "link": "[1.3.5 Additional Resources](https://jckantor.github.io/CBE30338/01.03-Python-Conditionals-and-Libraries.html#1.3.5-Additional-Resources)",
          "section": "1.3.5 Additional Resources"
        },
        "id": "v8UZyVF55FrX"
      },
      "source": [
        "## 1.3.5 Additional Resources\n",
        "* If you still feel VERY lost: [Code Academy](https://www.codecademy.com/learn/learn-python)\n",
        "\n",
        "* If you want a good reference site: [Official Python Reference](https://docs.python.org/3/reference/)\n",
        "\n",
        "* If you want to learn python robustly: [Learn Python the Hard Way](https://learnpythonthehardway.org/book/)\n",
        "\n",
        "* Feel free to contact me at: **jgerace (at) nd (dot) edu**\n"
      ]
    },
    {
      "cell_type": "code",
      "execution_count": null,
      "metadata": {
        "collapsed": true,
        "nbpages": {
          "level": 2,
          "link": "[1.3.5 Additional Resources](https://jckantor.github.io/CBE30338/01.03-Python-Conditionals-and-Libraries.html#1.3.5-Additional-Resources)",
          "section": "1.3.5 Additional Resources"
        },
        "id": "bEm8GzaE5FrX"
      },
      "outputs": [],
      "source": []
    },
    {
      "cell_type": "markdown",
      "metadata": {
        "nbpages": {
          "level": 1,
          "link": "[1.4 Python Numeric Integration Revisited](https://jckantor.github.io/CBE30338/01.04-Python-Numeric-Integration-Revisited.html#1.4-Python-Numeric-Integration-Revisited)",
          "section": "1.4 Python Numeric Integration Revisited"
        },
        "id": "Wbhpy9yk5L9v"
      },
      "source": [
        "# 1.4 Python Numeric Integration Revisited"
      ]
    },
    {
      "cell_type": "markdown",
      "metadata": {
        "nbpages": {
          "level": 2,
          "link": "[1.4.1 Sidenotes](https://jckantor.github.io/CBE30338/01.04-Python-Numeric-Integration-Revisited.html#1.4.1-Sidenotes)",
          "section": "1.4.1 Sidenotes"
        },
        "id": "euMNSeJ45L9w"
      },
      "source": [
        "## 1.4.1 Sidenotes"
      ]
    },
    {
      "cell_type": "markdown",
      "metadata": {
        "nbpages": {
          "level": 3,
          "link": "[1.4.1.1 Code Academy Sidenote](https://jckantor.github.io/CBE30338/01.04-Python-Numeric-Integration-Revisited.html#1.4.1.1-Code-Academy-Sidenote)",
          "section": "1.4.1.1 Code Academy Sidenote"
        },
        "id": "E6QPjWYU5L9w"
      },
      "source": [
        "### 1.4.1.1 Code Academy Sidenote\n",
        "\n",
        "* https://www.codecademy.com/learn/learn-python"
      ]
    },
    {
      "cell_type": "markdown",
      "metadata": {
        "nbpages": {
          "level": 3,
          "link": "[1.4.1.2 Markdown/Latex Sidenote](https://jckantor.github.io/CBE30338/01.04-Python-Numeric-Integration-Revisited.html#1.4.1.2-Markdown/Latex-Sidenote)",
          "section": "1.4.1.2 Markdown/Latex Sidenote"
        },
        "id": "ndG2iLUo5L9y"
      },
      "source": [
        "### 1.4.1.2 Markdown/Latex Sidenote"
      ]
    },
    {
      "cell_type": "markdown",
      "metadata": {
        "nbpages": {
          "level": 3,
          "link": "[1.4.1.2 Markdown/Latex Sidenote](https://jckantor.github.io/CBE30338/01.04-Python-Numeric-Integration-Revisited.html#1.4.1.2-Markdown/Latex-Sidenote)",
          "section": "1.4.1.2 Markdown/Latex Sidenote"
        },
        "id": "wURk9SK65L9y"
      },
      "source": [
        "Jupyter-notebooks are very convenient because they include these markdown blocks to include discussion of the material.\n",
        "\n",
        "Programs like Microsoft Word are examples of a \"What you see is what you get\" editor. In Markdown, you use characters and symbols to format your text, and then actually compile them.\n",
        "\n",
        "For instance, I've been making liberal use of the header feature using the '#' pound/hashtag symbol. **Double click on this cell to see how I'm creating the text below.**"
      ]
    },
    {
      "cell_type": "markdown",
      "metadata": {
        "nbpages": {
          "level": 1,
          "link": "[1.4 First Header](https://jckantor.github.io/CBE30338/01.04-Python-Numeric-Integration-Revisited.html#1.4-First-Header)",
          "section": "1.4 First Header"
        },
        "id": "1OP8IcRp5L9z"
      },
      "source": [
        "# 1.4 First Header"
      ]
    },
    {
      "cell_type": "markdown",
      "metadata": {
        "nbpages": {
          "level": 2,
          "link": "[1.4.1 Second Header](https://jckantor.github.io/CBE30338/01.04-Python-Numeric-Integration-Revisited.html#1.4.1-Second-Header)",
          "section": "1.4.1 Second Header"
        },
        "id": "aZxRvEq55L91"
      },
      "source": [
        "## 1.4.1 Second Header"
      ]
    },
    {
      "cell_type": "markdown",
      "metadata": {
        "nbpages": {
          "level": 3,
          "link": "[1.4.1.1 Tertiary Header](https://jckantor.github.io/CBE30338/01.04-Python-Numeric-Integration-Revisited.html#1.4.1.1-Tertiary-Header)",
          "section": "1.4.1.1 Tertiary Header"
        },
        "id": "-gYgN87q5L91"
      },
      "source": [
        "### 1.4.1.1 Tertiary Header"
      ]
    },
    {
      "cell_type": "markdown",
      "metadata": {
        "nbpages": {
          "level": 4,
          "link": "[1.4.1.1.1 Etc](https://jckantor.github.io/CBE30338/01.04-Python-Numeric-Integration-Revisited.html#1.4.1.1.1-Etc)",
          "section": "1.4.1.1.1 Etc"
        },
        "id": "iNNKHkW95L92"
      },
      "source": [
        "#### 1.4.1.1.1 Etc\n",
        "\n",
        "* Bullet Point\n",
        "* Bullet Point 2\n",
        "* Etc.\n",
        "\n",
        "**Bolded Text**\n",
        "\n",
        "_Italicized Text_\n",
        "\n",
        "Those are a couple examples of some basic formatting. You can see more examples throughout this tutorial. The sidenote above has an example of a link, while there are examples of a chart, and a photo below. Take a look and see if you can reproduce it on your own!\n",
        "\n",
        "For further reference: [Github's Markdown Guide](https://guides.github.com/features/mastering-markdown/)"
      ]
    },
    {
      "cell_type": "markdown",
      "metadata": {
        "nbpages": {
          "level": 3,
          "link": "[1.4.1.2 Latex Side Note](https://jckantor.github.io/CBE30338/01.04-Python-Numeric-Integration-Revisited.html#1.4.1.2-Latex-Side-Note)",
          "section": "1.4.1.2 Latex Side Note"
        },
        "id": "K1W5MtKo5L94"
      },
      "source": [
        "### 1.4.1.2 Latex Side Note"
      ]
    },
    {
      "cell_type": "markdown",
      "metadata": {
        "nbpages": {
          "level": 3,
          "link": "[1.4.1.2 Latex Side Note](https://jckantor.github.io/CBE30338/01.04-Python-Numeric-Integration-Revisited.html#1.4.1.2-Latex-Side-Note)",
          "section": "1.4.1.2 Latex Side Note"
        },
        "id": "9FXr7Ngd5L94"
      },
      "source": [
        "A big included feature in Jupyter-notebook markdown blocks is that you have the ability to include LaTeX formatted text as well. \n",
        "\n",
        "LaTeX (pronounced \"La-tech\") is similar to a markdown language in and of itself (it is not What-You-See-Is-What-You-Get). It is considerably more feature-full than markdown, but also has a bigger learning curve. I recommend that you use it just for math, as Markdown can't provide Math formatting.\n",
        "\n",
        "* Start latex formatting with '\\$\\$' and end it with another '\\$\\$'\n",
        "$$ math goes here $$\n",
        "\n",
        "* All alphabetic characters are included in a LateX math statement is intended to be a variable, and is italicized. Basic math is very intuitive due to this.\n",
        "\n",
        "$$ y = mx + b $$\n",
        "\n",
        "* As soon as you get to fractions, you have to learn some LaTeX commands. Here we'll use the '\\frac{}{}' command\n",
        "\n",
        "$$ \\frac{3}{5} $$\n",
        "\n",
        "* I prefer creating equations in LaTeX to word in large part due to symbols. Most greek letters can be added with the '\\letter' command. For instance '\\lambda'\n",
        "\n",
        "$$ \\lambda \\leq \\pi + \\Pi $$\n",
        "\n",
        "* Most common functions are included as operators in LaTeX:\n",
        "\n",
        "$$ \\log_b(a) = \\frac{\\log(a)}{\\log(a)} $$\n",
        "\n",
        "Just that should be enough to cover most of the math you'll need in this course. Don't feel like you _have_ to use LaTeX. It is also acceptable to do your work out (neatly) on paper and include a photo."
      ]
    },
    {
      "cell_type": "markdown",
      "metadata": {
        "nbpages": {
          "level": 2,
          "link": "[1.4.2 Hare and Lynx Example](https://jckantor.github.io/CBE30338/01.04-Python-Numeric-Integration-Revisited.html#1.4.2-Hare-and-Lynx-Example)",
          "section": "1.4.2 Hare and Lynx Example"
        },
        "id": "-RdGANyp5L96"
      },
      "source": [
        "## 1.4.2 Hare and Lynx Example"
      ]
    },
    {
      "cell_type": "markdown",
      "metadata": {
        "nbpages": {
          "level": 3,
          "link": "[1.4.2.1 Adapted from [Dr. Kantor's Notes](https://github.com/jckantor/CBE30338/blob/master/notebooks/HareLynx/Hare%20and%20Lynx%20Population%20Dynamics.ipynb) ](https://jckantor.github.io/CBE30338/01.04-Python-Numeric-Integration-Revisited.html#1.4.2.1-Adapted-from-[Dr.-Kantor's-Notes](https://github.com/jckantor/CBE30338/blob/master/notebooks/HareLynx/Hare%20and%20Lynx%20Population%20Dynamics.ipynb))",
          "section": "1.4.2.1 Adapted from [Dr. Kantor's Notes](https://github.com/jckantor/CBE30338/blob/master/notebooks/HareLynx/Hare%20and%20Lynx%20Population%20Dynamics.ipynb) "
        },
        "id": "u5mhr3bM5L97"
      },
      "source": [
        "### 1.4.2.1 Adapted from [Dr. Kantor's Notes](https://github.com/jckantor/CBE30338/blob/master/notebooks/HareLynx/Hare%20and%20Lynx%20Population%20Dynamics.ipynb) "
      ]
    },
    {
      "cell_type": "markdown",
      "metadata": {
        "nbpages": {
          "level": 3,
          "link": "[1.4.2.2 Introduction](https://jckantor.github.io/CBE30338/01.04-Python-Numeric-Integration-Revisited.html#1.4.2.2-Introduction)",
          "section": "1.4.2.2 Introduction"
        },
        "id": "Uxa4E19G5L97"
      },
      "source": [
        "### 1.4.2.2 Introduction\n",
        "We'd like to model the number of Hares and Lynx in a certain population of animals. \n",
        "![](http://boredomtherapy.com/wp-content/uploads/2015/12/14-canadian-lynx-paws-cute.jpg)\n",
        "![](http://www.cbc.ca/kidscbc2/content/contests/cute_snowshoe1.jpg)\n",
        "\n",
        "As cute as that Lynx is, it will prey on the Hare to the exclusion of all other animals if possible. This means the population levels of the Lynx and Hare are intrinsically related, see the pelt trading data for the Hudson's Bay Company:\n",
        "\n",
        "![](MainLynx.jpg)"
      ]
    },
    {
      "cell_type": "markdown",
      "metadata": {
        "nbpages": {
          "level": 3,
          "link": "[1.4.2.3 Modeling](https://jckantor.github.io/CBE30338/01.04-Python-Numeric-Integration-Revisited.html#1.4.2.3-Modeling)",
          "section": "1.4.2.3 Modeling"
        },
        "id": "8vOiGoMy5L98"
      },
      "source": [
        "### 1.4.2.3 Modeling\n",
        "\n",
        "We can start with the basic equation of: change = in - out\n",
        "\n",
        "$$\n",
        "\\frac{dH}{dt} = (Hare Birth Rate) - (Hare Death Rate) \\\\\n",
        "\\frac{dL}{dt} = (Lynx Birth Rate) - (Lynx Death Rate)\n",
        "$$"
      ]
    },
    {
      "cell_type": "markdown",
      "metadata": {
        "nbpages": {
          "level": 4,
          "link": "[1.4.2.3.1 Relevant Parameters](https://jckantor.github.io/CBE30338/01.04-Python-Numeric-Integration-Revisited.html#1.4.2.3.1-Relevant-Parameters)",
          "section": "1.4.2.3.1 Relevant Parameters"
        },
        "id": "_9mZiUMj5L99"
      },
      "source": [
        "#### 1.4.2.3.1 Relevant Parameters\n",
        "\n",
        "| Parameter | Symbol | Value |\n",
        "| - | :----: | :---: |\n",
        "| Lynx/Hare Predation Rate | $a$ | 3.2 |\n",
        "| Lynx/Hare Conversion | $b$ | 0.6 |\n",
        "| Lynx/Hare Michaelis Constant| $c$ | 50 |\n",
        "| Lynx Death Rate | $d$ | 0.56 |\n",
        "| Hare Carrying Capacity| $k$ | 125 |\n",
        "| Hare Reproduction Rate | $r$ | 1.6 |"
      ]
    },
    {
      "cell_type": "markdown",
      "metadata": {
        "nbpages": {
          "level": 4,
          "link": "[1.4.2.3.2 Model Equations](https://jckantor.github.io/CBE30338/01.04-Python-Numeric-Integration-Revisited.html#1.4.2.3.2-Model-Equations)",
          "section": "1.4.2.3.2 Model Equations"
        },
        "id": "TR5AEjaR5L99"
      },
      "source": [
        "#### 1.4.2.3.2 Model Equations\n",
        "These parameters can be used to form a model:\n",
        "\n",
        "$$\n",
        "\\frac{dH}{dt} = rH(1 - \\frac{H}{k}) - \\frac{aHL}{c + H}  \\\\\n",
        "\\frac{dL}{dt} = a \\frac{bHL}{c + H} - d*L\n",
        "$$\n",
        "\n",
        "The focus of this tutorial is not on the development of these model equations, but do review the equations and try to make sense of them. It can help you in debugging steps later should you have an error."
      ]
    },
    {
      "cell_type": "markdown",
      "metadata": {
        "nbpages": {
          "level": 3,
          "link": "[1.4.2.4 Programming and Plotting](https://jckantor.github.io/CBE30338/01.04-Python-Numeric-Integration-Revisited.html#1.4.2.4-Programming-and-Plotting)",
          "section": "1.4.2.4 Programming and Plotting"
        },
        "id": "EtZTrOXh5L9-"
      },
      "source": [
        "### 1.4.2.4 Programming and Plotting"
      ]
    },
    {
      "cell_type": "markdown",
      "metadata": {
        "nbpages": {
          "level": 4,
          "link": "[1.4.2.4.1 Step 1: Initialization](https://jckantor.github.io/CBE30338/01.04-Python-Numeric-Integration-Revisited.html#1.4.2.4.1-Step-1:-Initialization)",
          "section": "1.4.2.4.1 Step 1: Initialization"
        },
        "id": "ZTKf7sTn5L9_"
      },
      "source": [
        "#### 1.4.2.4.1 Step 1: Initialization"
      ]
    },
    {
      "cell_type": "code",
      "execution_count": null,
      "metadata": {
        "nbpages": {
          "level": 4,
          "link": "[1.4.2.4.1 Step 1: Initialization](https://jckantor.github.io/CBE30338/01.04-Python-Numeric-Integration-Revisited.html#1.4.2.4.1-Step-1:-Initialization)",
          "section": "1.4.2.4.1 Step 1: Initialization"
        },
        "id": "eWcWjHyF5L9_"
      },
      "outputs": [],
      "source": [
        "%matplotlib inline\n",
        "import numpy as np\n",
        "import matplotlib.pyplot as plt\n",
        "from scipy.integrate import solve_ivp"
      ]
    },
    {
      "cell_type": "markdown",
      "metadata": {
        "nbpages": {
          "level": 4,
          "link": "[1.4.2.4.2 Step 2: Default Parameter Values](https://jckantor.github.io/CBE30338/01.04-Python-Numeric-Integration-Revisited.html#1.4.2.4.2-Step-2:-Default-Parameter-Values)",
          "section": "1.4.2.4.2 Step 2: Default Parameter Values"
        },
        "id": "NLGyOnRg5L-C"
      },
      "source": [
        "#### 1.4.2.4.2 Step 2: Default Parameter Values"
      ]
    },
    {
      "cell_type": "code",
      "execution_count": null,
      "metadata": {
        "nbpages": {
          "level": 4,
          "link": "[1.4.2.4.2 Step 2: Default Parameter Values](https://jckantor.github.io/CBE30338/01.04-Python-Numeric-Integration-Revisited.html#1.4.2.4.2-Step-2:-Default-Parameter-Values)",
          "section": "1.4.2.4.2 Step 2: Default Parameter Values"
        },
        "id": "HUY1cEHa5L-D"
      },
      "outputs": [],
      "source": [
        "a = 3.2\n",
        "b = 0.6\n",
        "c = 50\n",
        "d = 0.56\n",
        "k = 125\n",
        "r = 1.6"
      ]
    },
    {
      "cell_type": "markdown",
      "metadata": {
        "nbpages": {
          "level": 4,
          "link": "[1.4.2.4.3 Step 3: Define the differential equations](https://jckantor.github.io/CBE30338/01.04-Python-Numeric-Integration-Revisited.html#1.4.2.4.3-Step-3:-Define-the-differential-equations)",
          "section": "1.4.2.4.3 Step 3: Define the differential equations"
        },
        "id": "R4Svbdqd5L-E"
      },
      "source": [
        "#### 1.4.2.4.3 Step 3: Define the differential equations"
      ]
    },
    {
      "cell_type": "code",
      "execution_count": null,
      "metadata": {
        "nbpages": {
          "level": 4,
          "link": "[1.4.2.4.3 Step 3: Define the differential equations](https://jckantor.github.io/CBE30338/01.04-Python-Numeric-Integration-Revisited.html#1.4.2.4.3-Step-3:-Define-the-differential-equations)",
          "section": "1.4.2.4.3 Step 3: Define the differential equations"
        },
        "id": "DnZja6ob5L-F"
      },
      "outputs": [],
      "source": [
        "def deriv(t, y):\n",
        "    H, L = y\n",
        "    dHdt =  r*H*(1-H/k) - a*H*L/(c+H)\n",
        "    dLdt = b*a*H*L/(c+H) - d*L\n",
        "    return [dHdt, dLdt]"
      ]
    },
    {
      "cell_type": "markdown",
      "metadata": {
        "nbpages": {
          "level": 4,
          "link": "[1.4.2.4.4 Step 4: Integrate Differential Equations](https://jckantor.github.io/CBE30338/01.04-Python-Numeric-Integration-Revisited.html#1.4.2.4.4-Step-4:-Integrate-Differential-Equations)",
          "section": "1.4.2.4.4 Step 4: Integrate Differential Equations"
        },
        "id": "sIKDF4uo5L-F"
      },
      "source": [
        "#### 1.4.2.4.4 Step 4: Integrate Differential Equations"
      ]
    },
    {
      "cell_type": "code",
      "execution_count": null,
      "metadata": {
        "nbpages": {
          "level": 4,
          "link": "[1.4.2.4.4 Step 4: Integrate Differential Equations](https://jckantor.github.io/CBE30338/01.04-Python-Numeric-Integration-Revisited.html#1.4.2.4.4-Step-4:-Integrate-Differential-Equations)",
          "section": "1.4.2.4.4 Step 4: Integrate Differential Equations"
        },
        "id": "7mGLg5u_5L-G"
      },
      "outputs": [],
      "source": [
        "t = np.linspace(0, 70, 500)                             # time grid\n",
        "IC = [20, 20]                                           # initial conditions for H and L\n",
        "soln = solve_ivp(deriv, (t[0], t[-1]), IC, t_eval=t)    # compute solution\n",
        "H, L = soln.y                                           # unpack solution "
      ]
    },
    {
      "cell_type": "markdown",
      "metadata": {
        "nbpages": {
          "level": 4,
          "link": "[1.4.2.4.5 Step 5: Plot ](https://jckantor.github.io/CBE30338/01.04-Python-Numeric-Integration-Revisited.html#1.4.2.4.5-Step-5:-Plot)",
          "section": "1.4.2.4.5 Step 5: Plot "
        },
        "id": "hTvAdYHs5L-H"
      },
      "source": [
        "#### 1.4.2.4.5 Step 5: Plot "
      ]
    },
    {
      "cell_type": "code",
      "execution_count": null,
      "metadata": {
        "nbpages": {
          "level": 4,
          "link": "[1.4.2.4.5 Step 5: Plot ](https://jckantor.github.io/CBE30338/01.04-Python-Numeric-Integration-Revisited.html#1.4.2.4.5-Step-5:-Plot)",
          "section": "1.4.2.4.5 Step 5: Plot "
        },
        "id": "ZdoIWQ5j5L-H",
        "outputId": "8b8e5a94-a86e-4f1a-9cd6-4df0fd0d232d"
      },
      "outputs": [
        {
          "data": {
            "text/plain": [
              "<matplotlib.legend.Legend at 0x11fd93550>"
            ]
          },
          "execution_count": 5,
          "metadata": {},
          "output_type": "execute_result"
        },
        {
          "data": {
            "image/png": "[encoded data removed]",
            "text/plain": [
              "<Figure size 432x288 with 1 Axes>"
            ]
          },
          "metadata": {
            "needs_background": "light"
          },
          "output_type": "display_data"
        }
      ],
      "source": [
        "plt.plot(t, H, t,  L)\n",
        "plt.title('Hare/Lynx Population Dynamics')\n",
        "plt.xlabel('Year')\n",
        "plt.legend(['Hare', 'Lynx'])"
      ]
    },
    {
      "cell_type": "markdown",
      "metadata": {
        "nbpages": {
          "level": 4,
          "link": "[1.4.2.4.5 Step 5: Plot ](https://jckantor.github.io/CBE30338/01.04-Python-Numeric-Integration-Revisited.html#1.4.2.4.5-Step-5:-Plot)",
          "section": "1.4.2.4.5 Step 5: Plot "
        },
        "id": "LZqZqyW-5L-K"
      },
      "source": [
        "If you have more than one thing to plot, we can make use of the subplot feature"
      ]
    },
    {
      "cell_type": "code",
      "execution_count": null,
      "metadata": {
        "nbpages": {
          "level": 4,
          "link": "[1.4.2.4.5 Step 5: Plot ](https://jckantor.github.io/CBE30338/01.04-Python-Numeric-Integration-Revisited.html#1.4.2.4.5-Step-5:-Plot)",
          "section": "1.4.2.4.5 Step 5: Plot "
        },
        "id": "tXphWjzT5L-L",
        "outputId": "885d8f15-dea8-4f89-b670-b57eed94f03e"
      },
      "outputs": [
        {
          "data": {
            "text/plain": [
              "Text(0.5,0,'Hare')"
            ]
          },
          "execution_count": 6,
          "metadata": {},
          "output_type": "execute_result"
        },
        {
          "data": {
            "image/png": "[encoded data removed]",
            "text/plain": [
              "<Figure size 936x288 with 2 Axes>"
            ]
          },
          "metadata": {
            "needs_background": "light"
          },
          "output_type": "display_data"
        }
      ],
      "source": [
        "plt.figure(figsize=(13, 4))\n",
        "plt.subplot(1, 2, 1)\n",
        "plt.plot(t, H, t, L)\n",
        "plt.title('Hare/Lynx Population Dynamics')\n",
        "plt.xlabel('Year')\n",
        "plt.legend(['Hare', 'Lynx'])\n",
        "\n",
        "plt.subplot(1, 2, 2)\n",
        "plt.plot(H, L)\n",
        "plt.title('Hare/Lynx Phase Plot')\n",
        "plt.ylabel('Lynx')\n",
        "plt.xlabel('Hare')"
      ]
    },
    {
      "cell_type": "code",
      "execution_count": null,
      "metadata": {
        "nbpages": {
          "level": 4,
          "link": "[1.4.2.4.5 Step 5: Plot ](https://jckantor.github.io/CBE30338/01.04-Python-Numeric-Integration-Revisited.html#1.4.2.4.5-Step-5:-Plot)",
          "section": "1.4.2.4.5 Step 5: Plot "
        },
        "id": "dmmJvRET5L-M"
      },
      "outputs": [],
      "source": []
    }
  ]
}