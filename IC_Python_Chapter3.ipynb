{
  "nbformat": 4,
  "nbformat_minor": 0,
  "metadata": {
    "colab": {
      "provenance": [],
      "authorship_tag": "ABX9TyPy6pmtEenPUNF3HKh/kntA",
      "include_colab_link": true
    },
    "kernelspec": {
      "name": "python3",
      "display_name": "Python 3"
    },
    "language_info": {
      "name": "python"
    }
  },
  "cells": [
    {
      "cell_type": "markdown",
      "metadata": {
        "id": "view-in-github",
        "colab_type": "text"
      },
      "source": [
        "<a href=\"https://colab.research.google.com/github/MJAHMADEE/Industrial_Control_Course/blob/main/IC_Python_Chapter3.ipynb\" target=\"_parent\"><img src=\"https://colab.research.google.com/assets/colab-badge.svg\" alt=\"Open In Colab\"/></a>"
      ]
    },
    {
      "cell_type": "markdown",
      "source": [
        "# Industrail Control Course\n",
        "K. N. Toosi University of Technology\n",
        "\n",
        "<a href=\"https://github.com/MJAHMADEE/Industrial_Control_Course\" target=\"_blank\"><img src=\"https://img.shields.io/github/stars/USERNAME/REPOSITORY.svg?style=social\" alt=\"GitHub\"></a>\n",
        "\n"
      ],
      "metadata": {
        "id": "9QHViL8aNTSg"
      }
    },
    {
      "cell_type": "markdown",
      "source": [
        "# Example 1: Dcmotor\n",
        "This code defines a state space model of a DC motor and simulates its response to an input signal. The input signal is a step function that changes sign at t=2 seconds. The state variables (theta, omega, and i) are plotted over time.\n",
        "\n",
        "I added a line to calculate the output of the system by multiplying the output y from the lsim function with the input signal u. This is because the lsim function in Python only returns the response of the system to the input signal, while in MATLAB it returns the product of the input and output signals.\n",
        "\n",
        "To obtain the correct plot, it is necessary to multiply the output y by the input signal u. This can be done using the dot function from the NumPy library, which performs matrix multiplication between the y and u arrays.\n",
        "\n",
        "So the line y = np.dot(y.reshape(-1, 1), u.reshape(1, -1)) multiplies y with u, where the reshape function is used to ensure that the dimensions of the arrays match for multiplication. The resulting y array contains the correct output of the system."
      ],
      "metadata": {
        "id": "2WyPKgT-C0iL"
      }
    },
    {
      "cell_type": "code",
      "execution_count": 9,
      "metadata": {
        "colab": {
          "base_uri": "https://localhost:8080/",
          "height": 283
        },
        "id": "BSwnIQWnCXc2",
        "outputId": "e3ed9dc9-debb-4b88-d358-214c8d1ed64f"
      },
      "outputs": [
        {
          "output_type": "display_data",
          "data": {
            "text/plain": [
              "<Figure size 432x288 with 1 Axes>"
            ],
            "image/png": "[encoded data removed]"
          },
          "metadata": {
            "needs_background": "light"
          }
        }
      ],
      "source": [
        "# Import necessary libraries\n",
        "import numpy as np\n",
        "import matplotlib.pyplot as plt\n",
        "from scipy import signal\n",
        "\n",
        "# Define the system matrices\n",
        "A = np.array([[0, 1, 0], [0, 0, 4.438], [0, -12, -24]])\n",
        "b1 = np.array([[0], [0], [20]])\n",
        "b2 = np.array([[0], [-7.396], [0]])\n",
        "B = np.hstack((b1, b2))\n",
        "C = np.array([[1, 0, 0]])\n",
        "D = np.array([[0]])\n",
        "\n",
        "# Create the state space model of the DC motor\n",
        "DC_motor = signal.StateSpace(A, b1, C, D)\n",
        "\n",
        "# Define the time vector and input signal\n",
        "t = np.arange(0, 4.01, 0.01)\n",
        "N = len(t)\n",
        "u = np.zeros((2, N))\n",
        "for i in range(N):\n",
        "    if t[i] < 2:\n",
        "        u[:, i] = 3\n",
        "    else:\n",
        "        u[:, i] = -3\n",
        "\n",
        "# Simulate the system\n",
        "t, y, x = signal.lsim(DC_motor, u[0], t)\n",
        "y = np.dot(y.reshape(-1, 1), u.reshape(1, -1))\n",
        "\n",
        "# Plot the state variables\n",
        "plt.plot(t, x[:, 0], 'k', label=r'$\\theta$')\n",
        "plt.plot(t, x[:, 1], 'k-.', label=r'$\\omega$')\n",
        "plt.plot(t, x[:, 2], 'k:', label=r\"$i$\")\n",
        "plt.grid()\n",
        "plt.xlabel('Time (sec)')\n",
        "plt.ylabel('State variables')\n",
        "plt.legend()\n",
        "plt.setp(plt.gca().get_lines(), linewidth=2)\n",
        "plt.xlim([0, 4])\n",
        "plt.ylim([-5, 10])\n",
        "plt.savefig('DC_motor_response.pdf')\n",
        "plt.show()"
      ]
    },
    {
      "cell_type": "markdown",
      "source": [
        "# Example 2: inverted_pendulum\n",
        "The code defines a function inverted_pendulum that describes the dynamics of an inverted pendulum system using the state-space representation. The function is then used to simulate the system using the ode45 solver and plot the results.\n",
        "The inverted_pendulum function takes as input the state x and time t, and returns the time derivatives of the state variables. The function defines the system parameters such as gravity g, length l, and masses m and M. It then defines the system state variables x_dot, which are the derivatives of the input x. The system dynamics are defined by the equations of motion for the inverted pendulum system.\n",
        "\n",
        "The odeint function from the SciPy library is used to solve the system of differential equations defined by the inverted_pendulum function. The initial state x0, time vector tspan, and inverted_pendulum function are passed as arguments to odeint.\n",
        "\n",
        "Finally, the code plots the state variables x and theta as a function of time. The plot function is used to create the plot, with the time vector tspan on the x-axis and the state variables x and theta on the y-axis. The grid, xlabel, ylabel, legend, and setp functions are used to customize the plot."
      ],
      "metadata": {
        "id": "dPSmXCC-DkNe"
      }
    },
    {
      "cell_type": "code",
      "source": [
        "# Import necessary libraries\n",
        "import numpy as np\n",
        "import matplotlib.pyplot as plt\n",
        "from scipy.integrate import odeint\n",
        "\n",
        "def inverted_pendulum(x, t):\n",
        "    # Define the system parameters\n",
        "    g = 9.8\n",
        "    l = 1\n",
        "    m = 1\n",
        "    M = 1\n",
        "    \n",
        "    # Define the system state variables\n",
        "    x_dot = np.zeros_like(x)\n",
        "    x_dot[0] = x[2]\n",
        "    x_dot[1] = x[3]\n",
        "    \n",
        "    # Define the system dynamics\n",
        "    d1 = M + m*(1 - np.cos(x[1])**2)\n",
        "    d2 = l*d1\n",
        "    F = 0\n",
        "    x_dot[2] = (F + m*l*x[3]**2*np.sin(x[1]) - m*g*np.sin(x[1])*np.cos(x[1]))/d1\n",
        "    x_dot[3] = (-F*np.cos(x[1]) - m*l*x[3]**2*np.sin(x[1])*np.cos(x[1]) + (M+m)*g*np.sin(x[1]))/d2\n",
        "    \n",
        "    return x_dot\n",
        "\n",
        "# Define the initial state and time vector\n",
        "x0 = np.array([0, 0.1, 0, 0])\n",
        "tspan = np.linspace(0, 1, 101)\n",
        "\n",
        "# Solve the system using odeint\n",
        "x = odeint(inverted_pendulum, x0, tspan)\n",
        "\n",
        "# Plot the state variables\n",
        "plt.plot(tspan, x[:, 0], 'k', label='x (m)')\n",
        "plt.plot(tspan, x[:, 1], '-.k', label=r'$\\theta$ (rad)')\n",
        "plt.grid()\n",
        "plt.xlabel('Time (sec)')\n",
        "plt.ylabel('State Variables')\n",
        "plt.legend()\n",
        "plt.setp(plt.gca().get_lines(), linewidth=2)\n",
        "plt.xlim([0, 1])\n",
        "plt.ylim([-0.5, 2.5])\n",
        "plt.savefig('inverted_pendulum.pdf')\n",
        "plt.show()"
      ],
      "metadata": {
        "colab": {
          "base_uri": "https://localhost:8080/",
          "height": 283
        },
        "id": "B9MPZoCvDqLO",
        "outputId": "b62c5ad5-51b0-4899-cb68-349511ba5889"
      },
      "execution_count": 11,
      "outputs": [
        {
          "output_type": "display_data",
          "data": {
            "text/plain": [
              "<Figure size 432x288 with 1 Axes>"
            ],
            "image/png": "[encoded data removed]"
          },
          "metadata": {
            "needs_background": "light"
          }
        }
      ]
    },
    {
      "cell_type": "markdown",
      "source": [
        "# Example 3: tank\n",
        "In this code, we have used the odeint function from the scipy.integrate module to solve the differential equation defined by the tank_model function. The odeint function takes the function defining the differential equation, initial conditions, and time interval as input arguments and returns an array of state variables at different time points. The plot function from the matplotlib.pyplot module is used to plot the tank level as a function of time. The grid function is used to display a grid on the plot, and the setp function is used to set the linewidth of the lines in the plot.\n",
        "\n",
        "The warning message \"RuntimeWarning: invalid value encountered in sqrt\" means that there is an attempt to take the square root of a negative number, which is not a real number. This could be because the value of x becomes negative at some point during the simulation.\n",
        "\n",
        "One possible solution to prevent this warning is to add a condition to check if the value of x is negative, and if so, set the derivative to zero. This would prevent the tank level from becoming negative during the simulation.\n",
        "\n",
        "In this code, the odeint function is used to solve the ODE, which takes the function tank_model, the initial condition x0, and the time span t as inputs. The if statement in the tank_model function checks if the tank level is negative, and if so, sets the derivative to zero.\n",
        "\n",
        "More Info: 'RuntimeWarning: invalid value encountered in sqrt xp = 1/A * (F_in - C*u*np.sqrt(x))' message indicates that there was an invalid value encountered in the square root operation in the tank_model function. This is because the square root function cannot take negative values as input, which can happen when x goes below zero. To prevent this error from occurring, you can add a condition to check if x is negative before calling the square root function. By setting x to zero when it becomes negative, you can prevent the invalid value encountered in the square root operation and the resulting warning message."
      ],
      "metadata": {
        "id": "KBJCSp1fGxpY"
      }
    },
    {
      "cell_type": "code",
      "source": [
        "import numpy as np\n",
        "from scipy.integrate import odeint\n",
        "import matplotlib.pyplot as plt\n",
        "\n",
        "def tank_model(x, t):\n",
        "    # State variable x = l: Tank level\n",
        "    A = 1\n",
        "    C = 2.0\n",
        "    F_in = 0  # No disturbance input\n",
        "    u = 0.1  # Constant opening for valve\n",
        "\n",
        "    if x < 0:  # Check if tank level is negative\n",
        "        xp = 0  # Set the derivative to zero\n",
        "    else:\n",
        "        xp = 1/A * (F_in - C*u*np.sqrt(x))\n",
        "\n",
        "    return xp\n",
        "\n",
        "# Initial condition\n",
        "x0 = 100\n",
        "\n",
        "# Time span\n",
        "t = np.linspace(0, 100, 1000)\n",
        "\n",
        "# Solve the ODE using odeint function\n",
        "x = odeint(tank_model, x0, t)\n",
        "\n",
        "# Plot the result\n",
        "plt.plot(t, x[:, 0], 'k')\n",
        "plt.grid(True)\n",
        "plt.xlabel('Time (sec)')\n",
        "plt.ylabel('Tank Level (m)')\n",
        "plt.setp(plt.gca().get_lines(), linewidth=2)\n",
        "plt.xlim([0, 100])\n",
        "plt.ylim([0, 100])\n",
        "plt.savefig('tank.pdf')\n",
        "plt.show()"
      ],
      "metadata": {
        "colab": {
          "base_uri": "https://localhost:8080/",
          "height": 283
        },
        "id": "d0YC--mVHEAf",
        "outputId": "aa5799fe-62c5-40f3-8ae4-14e0ed045354"
      },
      "execution_count": 27,
      "outputs": [
        {
          "output_type": "display_data",
          "data": {
            "text/plain": [
              "<Figure size 432x288 with 1 Axes>"
            ],
            "image/png": "[encoded data removed]"
          },
          "metadata": {
            "needs_background": "light"
          }
        }
      ]
    },
    {
      "cell_type": "markdown",
      "source": [
        "# Example 4: Mathematical linearization\n",
        "\n",
        "First, the equilibrium_point function is defined, which takes the state variable x, the input u, and the parameters F_in, A, and C as inputs, and returns the value of tank_model function evaluated at x, t=0, and u=u, F_in=F_in, A=A, and C=C.\n",
        "The fsolve function from the scipy.optimize module is used to find the root of the equilibrium_point function with an initial guess of 0.1. The resulting root is the value of u*. l* is then calculated from u* using the relationship l* = u*^2/C^2.\n",
        "The Jacobian matrix is calculated by evaluating the partial derivative of the tank_model function with respect to x at the equilibrium point. The result is a 1x1 matrix, which is printed.\n",
        "The linear_tank_model function is defined, which takes the state variable x, the time t, the equilibrium input u_star, and the Jacobian matrix jac as inputs, and returns the derivative of the state variable based on the linearized model.\n",
        "The initial condition is set to x0 = l* + 0.1."
      ],
      "metadata": {
        "id": "UG2oB6CoIFYo"
      }
    },
    {
      "cell_type": "code",
      "source": [
        "import numpy as np\n",
        "from scipy.optimize import fsolve\n",
        "from scipy.integrate import odeint\n",
        "\n",
        "# Define the tank model function\n",
        "def tank_model(x, t, u, F_in, A, C):\n",
        "    # State variable x=l: Tank level\n",
        "    if x < 0:  # Check if x is negative\n",
        "        x = 0  # Set x to zero if it is negative\n",
        "    xp = 1/A * (F_in - C*u*np.sqrt(x))\n",
        "    return xp\n",
        "\n",
        "# Set parameters\n",
        "A = 1\n",
        "C = 2.0\n",
        "F_in = 0  # No disturbance input\n",
        "\n",
        "# Define function to find the equilibrium point\n",
        "def equilibrium_point(x, u, F_in, A, C):\n",
        "    return tank_model(x, 0, u, F_in, A, C)\n",
        "\n",
        "# Find the equilibrium point\n",
        "u_star = fsolve(equilibrium_point, 0.1, args=(F_in, F_in, A, C))[0]\n",
        "l_star = u_star**2 / C**2\n",
        "\n",
        "# Print the equilibrium point\n",
        "print(f\"Equilibrium point: u*={u_star}, l*={l_star}\")\n",
        "\n",
        "# Calculate the Jacobian matrix\n",
        "x_star = np.array([l_star])\n",
        "jac = np.array([[-C*u_star/(2*A*np.sqrt(l_star))]])\n",
        "print(\"Jacobian matrix:\")\n",
        "print(jac)\n",
        "\n",
        "# Define function to calculate the derivative of the state variable\n",
        "def linear_tank_model(x, t, u_star, jac):\n",
        "    return jac.dot(x - np.array([l_star]))\n",
        "\n",
        "# Set initial condition\n",
        "x0 = np.array([l_star + 0.1])\n",
        "\n",
        "# Define time span\n",
        "tspan = np.linspace(0, 100, 101)\n",
        "\n",
        "# Simulate the linearized model\n",
        "x = odeint(linear_tank_model, x0, tspan, args=(u_star, jac))\n",
        "\n",
        "# Plot the result\n",
        "import matplotlib.pyplot as plt\n",
        "plt.plot(tspan, x[:,0], 'k')\n",
        "plt.grid(True)\n",
        "plt.xlabel('Time (sec)')\n",
        "plt.ylabel('Tank Level (m)')\n",
        "plt.title('Linearized Tank Model')\n",
        "plt.show()"
      ],
      "metadata": {
        "colab": {
          "base_uri": "https://localhost:8080/",
          "height": 347
        },
        "id": "w1BRln0iJTTq",
        "outputId": "c14ef4dc-aebc-480c-9e95-8bf86d05bb75"
      },
      "execution_count": 29,
      "outputs": [
        {
          "output_type": "stream",
          "name": "stdout",
          "text": [
            "Equilibrium point: u*=0.1, l*=0.0025000000000000005\n",
            "Jacobian matrix:\n",
            "[[-2.]]\n"
          ]
        },
        {
          "output_type": "display_data",
          "data": {
            "text/plain": [
              "<Figure size 432x288 with 1 Axes>"
            ],
            "image/png": "[encoded data removed]"
          },
          "metadata": {
            "needs_background": "light"
          }
        }
      ]
    },
    {
      "cell_type": "code",
      "source": [
        "import numpy as np\n",
        "from scipy.optimize import fsolve\n",
        "\n",
        "# Define constants\n",
        "A = 1\n",
        "C = 2.0\n",
        "Fin_star = 0.1  # Input disturbance\n",
        "ld_star = 0.25  # Tank level disturbance\n",
        "\n",
        "# Define the function that calculates the tank level derivative\n",
        "def tank_model(t, x, F_in, u):\n",
        "    # State variable x = l: Tank level\n",
        "    xp = 1/A * (F_in - C*u*np.sqrt(x))\n",
        "    return xp\n",
        "\n",
        "# Define the function to find the equilibrium point\n",
        "def find_equilibrium(F_in, l_d):\n",
        "    # Define the function to solve for the equilibrium point\n",
        "    def equations(x):\n",
        "        u, l = x\n",
        "        eq1 = F_in - C*u*np.sqrt(l)  # Mass balance equation\n",
        "        eq2 = tank_model(0, l, F_in, u) - l_d  # Level equation\n",
        "        return eq1, eq2\n",
        "    \n",
        "    # Use fsolve to solve for the equilibrium point\n",
        "    x0 = [0.1, 0.5]  # Initial guess\n",
        "    u_star, l_star = fsolve(equations, x0)\n",
        "    return u_star, l_star\n",
        "\n",
        "# Find the equilibrium point\n",
        "u_star, l_star = find_equilibrium(Fin_star, ld_star)\n",
        "\n",
        "# Calculate the Jacobian matrix at the equilibrium point\n",
        "J11 = -C/(4*A*l_star**(3/2)) * Fin_star\n",
        "J12 = C/(2*np.sqrt(l_star)) * u_star\n",
        "J21 = 1/A * (-C/(2*np.sqrt(l_star)))\n",
        "J22 = 0\n",
        "J = np.array([[J11, J12], [J21, J22]])\n",
        "\n",
        "# Print the Jacobian matrix\n",
        "print(\"Jacobian matrix:\")\n",
        "print(J)\n",
        "\n",
        "# Print the linearized equation\n",
        "print(\"Linearized equation:\")\n",
        "print(\"delta_l' = {:.4f} * delta_u + {:.4f} * delta_l\".format(J[0,0], J[0,1]))"
      ],
      "metadata": {
        "colab": {
          "base_uri": "https://localhost:8080/"
        },
        "id": "t6Oqkbt8LFh0",
        "outputId": "330750ca-fdd7-4b56-9db9-593096fc17d0"
      },
      "execution_count": 30,
      "outputs": [
        {
          "output_type": "stream",
          "name": "stdout",
          "text": [
            "Jacobian matrix:\n",
            "[[-0.14142136  0.14142136]\n",
            " [-1.41421356  0.        ]]\n",
            "Linearized equation:\n",
            "delta_l' = -0.1414 * delta_u + 0.1414 * delta_l\n"
          ]
        },
        {
          "output_type": "stream",
          "name": "stderr",
          "text": [
            "<ipython-input-30-b1c9f167b709>:21: RuntimeWarning: invalid value encountered in sqrt\n",
            "  eq1 = F_in - C*u*np.sqrt(l)  # Mass balance equation\n",
            "<ipython-input-30-b1c9f167b709>:13: RuntimeWarning: invalid value encountered in sqrt\n",
            "  xp = 1/A * (F_in - C*u*np.sqrt(x))\n",
            "/usr/local/lib/python3.9/dist-packages/scipy/optimize/_minpack_py.py:178: RuntimeWarning: The iteration is not making good progress, as measured by the \n",
            "  improvement from the last ten iterations.\n",
            "  warnings.warn(msg, RuntimeWarning)\n"
          ]
        }
      ]
    },
    {
      "cell_type": "markdown",
      "source": [
        "# Example 5: Linear system with transformation function\n",
        "\n",
        "Here's an example code that prompts the user to input the dimension of the A matrix and the values of all the state space matrices, then calculates and outputs the inverse of (sI - A) and the transfer function in the state space."
      ],
      "metadata": {
        "id": "eVvsdKarLLCm"
      }
    },
    {
      "cell_type": "code",
      "source": [
        "import sympy as sp\n",
        "\n",
        "# Get the state space matrices from the user\n",
        "n = int(input(\"Enter the dimension of the state space: \"))\n",
        "A = sp.Matrix([[float(input(f\"A({i+1},{j+1}): \")) for j in range(n)] for i in range(n)])\n",
        "B = sp.Matrix([[float(input(f\"B({i+1},{j+1}): \")) for j in range(1)] for i in range(n)])\n",
        "C = sp.Matrix([[float(input(f\"C({i+1},{j+1}): \")) for j in range(n)] for i in range(1)])\n",
        "D = sp.Matrix([[float(input(\"Enter the value of D: \"))]])\n",
        "\n",
        "# Define the symbolic variable s\n",
        "s = sp.symbols('s')\n",
        "\n",
        "# Calculate (sI - A)^(-1)\n",
        "sI_A_inv = (s*sp.eye(n) - A)**(-1)\n",
        "sI_A_inv_simp = sp.simplify(sI_A_inv)\n",
        "\n",
        "# Calculate the transfer function G(s) = C(sI - A)^(-1)B + D\n",
        "G = C*sI_A_inv*B + D\n",
        "G_simp = sp.simplify(G)\n",
        "\n",
        "# Print the results\n",
        "print(\"(sI - A)^(-1) =\")\n",
        "sp.pprint(sI_A_inv_simp)\n",
        "print(\"G(s) =\")\n",
        "sp.pprint(G_simp)\n",
        "\n",
        "# Print the LaTeX formatted output\n",
        "print(\"\\nLaTeX formatted output:\")\n",
        "print(\"$G(s) = $\", sp.latex(G_simp))\n",
        "print(\"$[sI - A]^{-1} = $\", sp.latex(sI_A_inv_simp))"
      ],
      "metadata": {
        "colab": {
          "base_uri": "https://localhost:8080/"
        },
        "id": "BARbuylzVVBh",
        "outputId": "c87b886a-554b-46cc-bd77-a4802f2828fc"
      },
      "execution_count": 22,
      "outputs": [
        {
          "output_type": "stream",
          "name": "stdout",
          "text": [
            "Enter the dimension of the state space: 2\n",
            "A(1,1): 0\n",
            "A(1,2): 1\n",
            "A(2,1): -2\n",
            "A(2,2): -3\n",
            "B(1,1): 1\n",
            "B(2,1): 1\n",
            "C(1,1): 1\n",
            "C(1,2): 0\n",
            "Enter the value of D: 0\n",
            "(sI - A)^(-1) =\n",
            "⎡    2.0⋅s + 6.0               2.0         ⎤\n",
            "⎢────────────────────  ────────────────────⎥\n",
            "⎢     2                     2              ⎥\n",
            "⎢2.0⋅s  + 6.0⋅s + 4.0  2.0⋅s  + 6.0⋅s + 4.0⎥\n",
            "⎢                                          ⎥\n",
            "⎢       -2.0                  1.0⋅s        ⎥\n",
            "⎢────────────────────  ────────────────────⎥\n",
            "⎢     2                     2              ⎥\n",
            "⎣1.0⋅s  + 3.0⋅s + 2.0  1.0⋅s  + 3.0⋅s + 2.0⎦\n",
            "G(s) =\n",
            "⎡    2.0⋅s + 8.0     ⎤\n",
            "⎢────────────────────⎥\n",
            "⎢     2              ⎥\n",
            "⎣2.0⋅s  + 6.0⋅s + 4.0⎦\n",
            "\n",
            "LaTeX formatted output:\n",
            "$G(s) = $ \\left[\\begin{matrix}\\frac{2.0 s + 8.0}{2.0 s^{2} + 6.0 s + 4.0}\\end{matrix}\\right]\n",
            "$[sI - A]^{-1} = $ \\left[\\begin{matrix}\\frac{2.0 s + 6.0}{2.0 s^{2} + 6.0 s + 4.0} & \\frac{2.0}{2.0 s^{2} + 6.0 s + 4.0}\\\\- \\frac{2.0}{1.0 s^{2} + 3.0 s + 2.0} & \\frac{1.0 s}{1.0 s^{2} + 3.0 s + 2.0}\\end{matrix}\\right]\n"
          ]
        }
      ]
    },
    {
      "cell_type": "markdown",
      "source": [
        "To get the state space matrices A, B, C, and D for an LTI system, we need to provide the system's state space representation in the form of:\n",
        "\n",
        "x_dot = Ax + Bu\n",
        "y = Cx + Du\n",
        "\n",
        "where:\n",
        "\n",
        "x is the state vector (n x 1)\n",
        "u is the input vector (m x 1)\n",
        "y is the output vector (p x 1)\n",
        "A is the state matrix (n x n)\n",
        "B is the input matrix (n x m)\n",
        "C is the output matrix (p x n)\n",
        "D is the direct transmission matrix (p x m)\n",
        "To obtain the inverse of the matrix (sI - A), where s is the Laplace variable, we can use the inv function from numpy.\n",
        "\n",
        "To obtain the transfer function of the system, we can use the ss2tf function from scipy.signal.\n",
        "\n",
        "Note: Replace np.random.rand with the actual values of A, B, C, and D for your system."
      ],
      "metadata": {
        "id": "vt6cMcBwLV2-"
      }
    },
    {
      "cell_type": "code",
      "source": [
        "import numpy as np\n",
        "from scipy import signal\n",
        "\n",
        "# Define the state space representation of the system\n",
        "# Set values for n, m, and p to match your system\n",
        "n = 3\n",
        "m = 1\n",
        "p = 1\n",
        "\n",
        "# Set the system matrices A, B, C, and D\n",
        "A = np.random.rand(n, n)\n",
        "B = np.random.rand(n, m)\n",
        "C = np.random.rand(p, n)\n",
        "D = np.random.rand(p, m)\n",
        "\n",
        "# Calculate the inverse of (sI - A)\n",
        "sI = np.eye(n)  # sI has the same shape as A\n",
        "s = np.poly1d([1, 0])  # s = Laplace variable\n",
        "inv_si_a = np.linalg.inv(s(sI) - A)\n",
        "\n",
        "# Calculate the transfer function of the system\n",
        "num, den = signal.ss2tf(A, B, C, D)\n",
        "\n",
        "# Print the results\n",
        "print(\"Inverse of (sI - A):\")\n",
        "print(inv_si_a)\n",
        "print(\"\\nTransfer function:\")\n",
        "print(f\"numerator: {num}\")\n",
        "print(f\"denominator: {den}\")\n"
      ],
      "metadata": {
        "colab": {
          "base_uri": "https://localhost:8080/"
        },
        "id": "QP1znRndLQSJ",
        "outputId": "c89cc412-675e-4c94-d2de-c022cde4d16d"
      },
      "execution_count": 31,
      "outputs": [
        {
          "output_type": "stream",
          "name": "stdout",
          "text": [
            "Inverse of (sI - A):\n",
            "[[ 0.25129251 -1.38230253 -0.52706341]\n",
            " [-0.6380199   0.43314769 -0.64320416]\n",
            " [-0.94496449 -2.84255373  0.35207   ]]\n",
            "\n",
            "Transfer function:\n",
            "numerator: [[ 0.66706845 -0.40413016  0.53751431 -0.07591576]]\n",
            "denominator: [ 1.         -1.95804529  0.5382735   0.055263  ]\n"
          ]
        }
      ]
    }
  ]
}